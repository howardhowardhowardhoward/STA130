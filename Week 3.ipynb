{
 "cells": [
  {
   "cell_type": "markdown",
   "id": "3c966eae",
   "metadata": {},
   "source": [
    "***Question 1***\n",
    "---\n"
   ]
  },
  {
   "cell_type": "code",
   "execution_count": 16,
   "id": "40538264",
   "metadata": {},
   "outputs": [
    {
     "data": {
      "application/vnd.plotly.v1+json": {
       "config": {
        "plotlyServerURL": "https://plot.ly"
       },
       "data": [
        {
         "alignmentgroup": "True",
         "bingroup": "x",
         "hovertemplate": "flipper_length_mm=%{x}<br>count=%{y}<extra></extra>",
         "legendgroup": "",
         "marker": {
          "color": "#636efa",
          "pattern": {
           "shape": ""
          }
         },
         "name": "",
         "offsetgroup": "",
         "orientation": "v",
         "showlegend": false,
         "type": "histogram",
         "x": [
          181,
          186,
          195,
          null,
          193,
          190,
          181,
          195,
          193,
          190,
          186,
          180,
          182,
          191,
          198,
          185,
          195,
          197,
          184,
          194,
          174,
          180,
          189,
          185,
          180,
          187,
          183,
          187,
          172,
          180,
          178,
          178,
          188,
          184,
          195,
          196,
          190,
          180,
          181,
          184,
          182,
          195,
          186,
          196,
          185,
          190,
          182,
          179,
          190,
          191,
          186,
          188,
          190,
          200,
          187,
          191,
          186,
          193,
          181,
          194,
          185,
          195,
          185,
          192,
          184,
          192,
          195,
          188,
          190,
          198,
          190,
          190,
          196,
          197,
          190,
          195,
          191,
          184,
          187,
          195,
          189,
          196,
          187,
          193,
          191,
          194,
          190,
          189,
          189,
          190,
          202,
          205,
          185,
          186,
          187,
          208,
          190,
          196,
          178,
          192,
          192,
          203,
          183,
          190,
          193,
          184,
          199,
          190,
          181,
          197,
          198,
          191,
          193,
          197,
          191,
          196,
          188,
          199,
          189,
          189,
          187,
          198,
          176,
          202,
          186,
          199,
          191,
          195,
          191,
          210,
          190,
          197,
          193,
          199,
          187,
          190,
          191,
          200,
          185,
          193,
          193,
          187,
          188,
          190,
          192,
          185,
          190,
          184,
          195,
          193,
          187,
          201,
          192,
          196,
          193,
          188,
          197,
          198,
          178,
          197,
          195,
          198,
          193,
          194,
          185,
          201,
          190,
          201,
          197,
          181,
          190,
          195,
          181,
          191,
          187,
          193,
          195,
          197,
          200,
          200,
          191,
          205,
          187,
          201,
          187,
          203,
          195,
          199,
          195,
          210,
          192,
          205,
          210,
          187,
          196,
          196,
          196,
          201,
          190,
          212,
          187,
          198,
          199,
          201,
          193,
          203,
          187,
          197,
          191,
          203,
          202,
          194,
          206,
          189,
          195,
          207,
          202,
          193,
          210,
          198,
          211,
          230,
          210,
          218,
          215,
          210,
          211,
          219,
          209,
          215,
          214,
          216,
          214,
          213,
          210,
          217,
          210,
          221,
          209,
          222,
          218,
          215,
          213,
          215,
          215,
          215,
          216,
          215,
          210,
          220,
          222,
          209,
          207,
          230,
          220,
          220,
          213,
          219,
          208,
          208,
          208,
          225,
          210,
          216,
          222,
          217,
          210,
          225,
          213,
          215,
          210,
          220,
          210,
          225,
          217,
          220,
          208,
          220,
          208,
          224,
          208,
          221,
          214,
          231,
          219,
          230,
          214,
          229,
          220,
          223,
          216,
          221,
          221,
          217,
          216,
          230,
          209,
          220,
          215,
          223,
          212,
          221,
          212,
          224,
          212,
          228,
          218,
          218,
          212,
          230,
          218,
          228,
          212,
          224,
          214,
          226,
          216,
          222,
          203,
          225,
          219,
          228,
          215,
          228,
          216,
          215,
          210,
          219,
          208,
          209,
          216,
          229,
          213,
          230,
          217,
          230,
          217,
          222,
          214,
          null,
          215,
          222,
          212,
          213
         ],
         "xaxis": "x",
         "yaxis": "y"
        }
       ],
       "layout": {
        "barmode": "relative",
        "legend": {
         "tracegroupgap": 0
        },
        "margin": {
         "t": 60
        },
        "template": {
         "data": {
          "bar": [
           {
            "error_x": {
             "color": "#2a3f5f"
            },
            "error_y": {
             "color": "#2a3f5f"
            },
            "marker": {
             "line": {
              "color": "#E5ECF6",
              "width": 0.5
             },
             "pattern": {
              "fillmode": "overlay",
              "size": 10,
              "solidity": 0.2
             }
            },
            "type": "bar"
           }
          ],
          "barpolar": [
           {
            "marker": {
             "line": {
              "color": "#E5ECF6",
              "width": 0.5
             },
             "pattern": {
              "fillmode": "overlay",
              "size": 10,
              "solidity": 0.2
             }
            },
            "type": "barpolar"
           }
          ],
          "carpet": [
           {
            "aaxis": {
             "endlinecolor": "#2a3f5f",
             "gridcolor": "white",
             "linecolor": "white",
             "minorgridcolor": "white",
             "startlinecolor": "#2a3f5f"
            },
            "baxis": {
             "endlinecolor": "#2a3f5f",
             "gridcolor": "white",
             "linecolor": "white",
             "minorgridcolor": "white",
             "startlinecolor": "#2a3f5f"
            },
            "type": "carpet"
           }
          ],
          "choropleth": [
           {
            "colorbar": {
             "outlinewidth": 0,
             "ticks": ""
            },
            "type": "choropleth"
           }
          ],
          "contour": [
           {
            "colorbar": {
             "outlinewidth": 0,
             "ticks": ""
            },
            "colorscale": [
             [
              0,
              "#0d0887"
             ],
             [
              0.1111111111111111,
              "#46039f"
             ],
             [
              0.2222222222222222,
              "#7201a8"
             ],
             [
              0.3333333333333333,
              "#9c179e"
             ],
             [
              0.4444444444444444,
              "#bd3786"
             ],
             [
              0.5555555555555556,
              "#d8576b"
             ],
             [
              0.6666666666666666,
              "#ed7953"
             ],
             [
              0.7777777777777778,
              "#fb9f3a"
             ],
             [
              0.8888888888888888,
              "#fdca26"
             ],
             [
              1,
              "#f0f921"
             ]
            ],
            "type": "contour"
           }
          ],
          "contourcarpet": [
           {
            "colorbar": {
             "outlinewidth": 0,
             "ticks": ""
            },
            "type": "contourcarpet"
           }
          ],
          "heatmap": [
           {
            "colorbar": {
             "outlinewidth": 0,
             "ticks": ""
            },
            "colorscale": [
             [
              0,
              "#0d0887"
             ],
             [
              0.1111111111111111,
              "#46039f"
             ],
             [
              0.2222222222222222,
              "#7201a8"
             ],
             [
              0.3333333333333333,
              "#9c179e"
             ],
             [
              0.4444444444444444,
              "#bd3786"
             ],
             [
              0.5555555555555556,
              "#d8576b"
             ],
             [
              0.6666666666666666,
              "#ed7953"
             ],
             [
              0.7777777777777778,
              "#fb9f3a"
             ],
             [
              0.8888888888888888,
              "#fdca26"
             ],
             [
              1,
              "#f0f921"
             ]
            ],
            "type": "heatmap"
           }
          ],
          "heatmapgl": [
           {
            "colorbar": {
             "outlinewidth": 0,
             "ticks": ""
            },
            "colorscale": [
             [
              0,
              "#0d0887"
             ],
             [
              0.1111111111111111,
              "#46039f"
             ],
             [
              0.2222222222222222,
              "#7201a8"
             ],
             [
              0.3333333333333333,
              "#9c179e"
             ],
             [
              0.4444444444444444,
              "#bd3786"
             ],
             [
              0.5555555555555556,
              "#d8576b"
             ],
             [
              0.6666666666666666,
              "#ed7953"
             ],
             [
              0.7777777777777778,
              "#fb9f3a"
             ],
             [
              0.8888888888888888,
              "#fdca26"
             ],
             [
              1,
              "#f0f921"
             ]
            ],
            "type": "heatmapgl"
           }
          ],
          "histogram": [
           {
            "marker": {
             "pattern": {
              "fillmode": "overlay",
              "size": 10,
              "solidity": 0.2
             }
            },
            "type": "histogram"
           }
          ],
          "histogram2d": [
           {
            "colorbar": {
             "outlinewidth": 0,
             "ticks": ""
            },
            "colorscale": [
             [
              0,
              "#0d0887"
             ],
             [
              0.1111111111111111,
              "#46039f"
             ],
             [
              0.2222222222222222,
              "#7201a8"
             ],
             [
              0.3333333333333333,
              "#9c179e"
             ],
             [
              0.4444444444444444,
              "#bd3786"
             ],
             [
              0.5555555555555556,
              "#d8576b"
             ],
             [
              0.6666666666666666,
              "#ed7953"
             ],
             [
              0.7777777777777778,
              "#fb9f3a"
             ],
             [
              0.8888888888888888,
              "#fdca26"
             ],
             [
              1,
              "#f0f921"
             ]
            ],
            "type": "histogram2d"
           }
          ],
          "histogram2dcontour": [
           {
            "colorbar": {
             "outlinewidth": 0,
             "ticks": ""
            },
            "colorscale": [
             [
              0,
              "#0d0887"
             ],
             [
              0.1111111111111111,
              "#46039f"
             ],
             [
              0.2222222222222222,
              "#7201a8"
             ],
             [
              0.3333333333333333,
              "#9c179e"
             ],
             [
              0.4444444444444444,
              "#bd3786"
             ],
             [
              0.5555555555555556,
              "#d8576b"
             ],
             [
              0.6666666666666666,
              "#ed7953"
             ],
             [
              0.7777777777777778,
              "#fb9f3a"
             ],
             [
              0.8888888888888888,
              "#fdca26"
             ],
             [
              1,
              "#f0f921"
             ]
            ],
            "type": "histogram2dcontour"
           }
          ],
          "mesh3d": [
           {
            "colorbar": {
             "outlinewidth": 0,
             "ticks": ""
            },
            "type": "mesh3d"
           }
          ],
          "parcoords": [
           {
            "line": {
             "colorbar": {
              "outlinewidth": 0,
              "ticks": ""
             }
            },
            "type": "parcoords"
           }
          ],
          "pie": [
           {
            "automargin": true,
            "type": "pie"
           }
          ],
          "scatter": [
           {
            "fillpattern": {
             "fillmode": "overlay",
             "size": 10,
             "solidity": 0.2
            },
            "type": "scatter"
           }
          ],
          "scatter3d": [
           {
            "line": {
             "colorbar": {
              "outlinewidth": 0,
              "ticks": ""
             }
            },
            "marker": {
             "colorbar": {
              "outlinewidth": 0,
              "ticks": ""
             }
            },
            "type": "scatter3d"
           }
          ],
          "scattercarpet": [
           {
            "marker": {
             "colorbar": {
              "outlinewidth": 0,
              "ticks": ""
             }
            },
            "type": "scattercarpet"
           }
          ],
          "scattergeo": [
           {
            "marker": {
             "colorbar": {
              "outlinewidth": 0,
              "ticks": ""
             }
            },
            "type": "scattergeo"
           }
          ],
          "scattergl": [
           {
            "marker": {
             "colorbar": {
              "outlinewidth": 0,
              "ticks": ""
             }
            },
            "type": "scattergl"
           }
          ],
          "scattermapbox": [
           {
            "marker": {
             "colorbar": {
              "outlinewidth": 0,
              "ticks": ""
             }
            },
            "type": "scattermapbox"
           }
          ],
          "scatterpolar": [
           {
            "marker": {
             "colorbar": {
              "outlinewidth": 0,
              "ticks": ""
             }
            },
            "type": "scatterpolar"
           }
          ],
          "scatterpolargl": [
           {
            "marker": {
             "colorbar": {
              "outlinewidth": 0,
              "ticks": ""
             }
            },
            "type": "scatterpolargl"
           }
          ],
          "scatterternary": [
           {
            "marker": {
             "colorbar": {
              "outlinewidth": 0,
              "ticks": ""
             }
            },
            "type": "scatterternary"
           }
          ],
          "surface": [
           {
            "colorbar": {
             "outlinewidth": 0,
             "ticks": ""
            },
            "colorscale": [
             [
              0,
              "#0d0887"
             ],
             [
              0.1111111111111111,
              "#46039f"
             ],
             [
              0.2222222222222222,
              "#7201a8"
             ],
             [
              0.3333333333333333,
              "#9c179e"
             ],
             [
              0.4444444444444444,
              "#bd3786"
             ],
             [
              0.5555555555555556,
              "#d8576b"
             ],
             [
              0.6666666666666666,
              "#ed7953"
             ],
             [
              0.7777777777777778,
              "#fb9f3a"
             ],
             [
              0.8888888888888888,
              "#fdca26"
             ],
             [
              1,
              "#f0f921"
             ]
            ],
            "type": "surface"
           }
          ],
          "table": [
           {
            "cells": {
             "fill": {
              "color": "#EBF0F8"
             },
             "line": {
              "color": "white"
             }
            },
            "header": {
             "fill": {
              "color": "#C8D4E3"
             },
             "line": {
              "color": "white"
             }
            },
            "type": "table"
           }
          ]
         },
         "layout": {
          "annotationdefaults": {
           "arrowcolor": "#2a3f5f",
           "arrowhead": 0,
           "arrowwidth": 1
          },
          "autotypenumbers": "strict",
          "coloraxis": {
           "colorbar": {
            "outlinewidth": 0,
            "ticks": ""
           }
          },
          "colorscale": {
           "diverging": [
            [
             0,
             "#8e0152"
            ],
            [
             0.1,
             "#c51b7d"
            ],
            [
             0.2,
             "#de77ae"
            ],
            [
             0.3,
             "#f1b6da"
            ],
            [
             0.4,
             "#fde0ef"
            ],
            [
             0.5,
             "#f7f7f7"
            ],
            [
             0.6,
             "#e6f5d0"
            ],
            [
             0.7,
             "#b8e186"
            ],
            [
             0.8,
             "#7fbc41"
            ],
            [
             0.9,
             "#4d9221"
            ],
            [
             1,
             "#276419"
            ]
           ],
           "sequential": [
            [
             0,
             "#0d0887"
            ],
            [
             0.1111111111111111,
             "#46039f"
            ],
            [
             0.2222222222222222,
             "#7201a8"
            ],
            [
             0.3333333333333333,
             "#9c179e"
            ],
            [
             0.4444444444444444,
             "#bd3786"
            ],
            [
             0.5555555555555556,
             "#d8576b"
            ],
            [
             0.6666666666666666,
             "#ed7953"
            ],
            [
             0.7777777777777778,
             "#fb9f3a"
            ],
            [
             0.8888888888888888,
             "#fdca26"
            ],
            [
             1,
             "#f0f921"
            ]
           ],
           "sequentialminus": [
            [
             0,
             "#0d0887"
            ],
            [
             0.1111111111111111,
             "#46039f"
            ],
            [
             0.2222222222222222,
             "#7201a8"
            ],
            [
             0.3333333333333333,
             "#9c179e"
            ],
            [
             0.4444444444444444,
             "#bd3786"
            ],
            [
             0.5555555555555556,
             "#d8576b"
            ],
            [
             0.6666666666666666,
             "#ed7953"
            ],
            [
             0.7777777777777778,
             "#fb9f3a"
            ],
            [
             0.8888888888888888,
             "#fdca26"
            ],
            [
             1,
             "#f0f921"
            ]
           ]
          },
          "colorway": [
           "#636efa",
           "#EF553B",
           "#00cc96",
           "#ab63fa",
           "#FFA15A",
           "#19d3f3",
           "#FF6692",
           "#B6E880",
           "#FF97FF",
           "#FECB52"
          ],
          "font": {
           "color": "#2a3f5f"
          },
          "geo": {
           "bgcolor": "white",
           "lakecolor": "white",
           "landcolor": "#E5ECF6",
           "showlakes": true,
           "showland": true,
           "subunitcolor": "white"
          },
          "hoverlabel": {
           "align": "left"
          },
          "hovermode": "closest",
          "mapbox": {
           "style": "light"
          },
          "paper_bgcolor": "white",
          "plot_bgcolor": "#E5ECF6",
          "polar": {
           "angularaxis": {
            "gridcolor": "white",
            "linecolor": "white",
            "ticks": ""
           },
           "bgcolor": "#E5ECF6",
           "radialaxis": {
            "gridcolor": "white",
            "linecolor": "white",
            "ticks": ""
           }
          },
          "scene": {
           "xaxis": {
            "backgroundcolor": "#E5ECF6",
            "gridcolor": "white",
            "gridwidth": 2,
            "linecolor": "white",
            "showbackground": true,
            "ticks": "",
            "zerolinecolor": "white"
           },
           "yaxis": {
            "backgroundcolor": "#E5ECF6",
            "gridcolor": "white",
            "gridwidth": 2,
            "linecolor": "white",
            "showbackground": true,
            "ticks": "",
            "zerolinecolor": "white"
           },
           "zaxis": {
            "backgroundcolor": "#E5ECF6",
            "gridcolor": "white",
            "gridwidth": 2,
            "linecolor": "white",
            "showbackground": true,
            "ticks": "",
            "zerolinecolor": "white"
           }
          },
          "shapedefaults": {
           "line": {
            "color": "#2a3f5f"
           }
          },
          "ternary": {
           "aaxis": {
            "gridcolor": "white",
            "linecolor": "white",
            "ticks": ""
           },
           "baxis": {
            "gridcolor": "white",
            "linecolor": "white",
            "ticks": ""
           },
           "bgcolor": "#E5ECF6",
           "caxis": {
            "gridcolor": "white",
            "linecolor": "white",
            "ticks": ""
           }
          },
          "title": {
           "x": 0.05
          },
          "xaxis": {
           "automargin": true,
           "gridcolor": "white",
           "linecolor": "white",
           "ticks": "",
           "title": {
            "standoff": 15
           },
           "zerolinecolor": "white",
           "zerolinewidth": 2
          },
          "yaxis": {
           "automargin": true,
           "gridcolor": "white",
           "linecolor": "white",
           "ticks": "",
           "title": {
            "standoff": 15
           },
           "zerolinecolor": "white",
           "zerolinewidth": 2
          }
         }
        },
        "xaxis": {
         "anchor": "y",
         "domain": [
          0,
          1
         ],
         "title": {
          "text": "flipper_length_mm"
         }
        },
        "yaxis": {
         "anchor": "x",
         "domain": [
          0,
          1
         ],
         "title": {
          "text": "count"
         }
        }
       }
      },
      "text/html": [
       "<div>                            <div id=\"384a028d-b44d-4425-99c8-e64f94ceb349\" class=\"plotly-graph-div\" style=\"height:525px; width:100%;\"></div>            <script type=\"text/javascript\">                require([\"plotly\"], function(Plotly) {                    window.PLOTLYENV=window.PLOTLYENV || {};                                    if (document.getElementById(\"384a028d-b44d-4425-99c8-e64f94ceb349\")) {                    Plotly.newPlot(                        \"384a028d-b44d-4425-99c8-e64f94ceb349\",                        [{\"alignmentgroup\":\"True\",\"bingroup\":\"x\",\"hovertemplate\":\"flipper_length_mm=%{x}\\u003cbr\\u003ecount=%{y}\\u003cextra\\u003e\\u003c\\u002fextra\\u003e\",\"legendgroup\":\"\",\"marker\":{\"color\":\"#636efa\",\"pattern\":{\"shape\":\"\"}},\"name\":\"\",\"offsetgroup\":\"\",\"orientation\":\"v\",\"showlegend\":false,\"x\":[181.0,186.0,195.0,null,193.0,190.0,181.0,195.0,193.0,190.0,186.0,180.0,182.0,191.0,198.0,185.0,195.0,197.0,184.0,194.0,174.0,180.0,189.0,185.0,180.0,187.0,183.0,187.0,172.0,180.0,178.0,178.0,188.0,184.0,195.0,196.0,190.0,180.0,181.0,184.0,182.0,195.0,186.0,196.0,185.0,190.0,182.0,179.0,190.0,191.0,186.0,188.0,190.0,200.0,187.0,191.0,186.0,193.0,181.0,194.0,185.0,195.0,185.0,192.0,184.0,192.0,195.0,188.0,190.0,198.0,190.0,190.0,196.0,197.0,190.0,195.0,191.0,184.0,187.0,195.0,189.0,196.0,187.0,193.0,191.0,194.0,190.0,189.0,189.0,190.0,202.0,205.0,185.0,186.0,187.0,208.0,190.0,196.0,178.0,192.0,192.0,203.0,183.0,190.0,193.0,184.0,199.0,190.0,181.0,197.0,198.0,191.0,193.0,197.0,191.0,196.0,188.0,199.0,189.0,189.0,187.0,198.0,176.0,202.0,186.0,199.0,191.0,195.0,191.0,210.0,190.0,197.0,193.0,199.0,187.0,190.0,191.0,200.0,185.0,193.0,193.0,187.0,188.0,190.0,192.0,185.0,190.0,184.0,195.0,193.0,187.0,201.0,192.0,196.0,193.0,188.0,197.0,198.0,178.0,197.0,195.0,198.0,193.0,194.0,185.0,201.0,190.0,201.0,197.0,181.0,190.0,195.0,181.0,191.0,187.0,193.0,195.0,197.0,200.0,200.0,191.0,205.0,187.0,201.0,187.0,203.0,195.0,199.0,195.0,210.0,192.0,205.0,210.0,187.0,196.0,196.0,196.0,201.0,190.0,212.0,187.0,198.0,199.0,201.0,193.0,203.0,187.0,197.0,191.0,203.0,202.0,194.0,206.0,189.0,195.0,207.0,202.0,193.0,210.0,198.0,211.0,230.0,210.0,218.0,215.0,210.0,211.0,219.0,209.0,215.0,214.0,216.0,214.0,213.0,210.0,217.0,210.0,221.0,209.0,222.0,218.0,215.0,213.0,215.0,215.0,215.0,216.0,215.0,210.0,220.0,222.0,209.0,207.0,230.0,220.0,220.0,213.0,219.0,208.0,208.0,208.0,225.0,210.0,216.0,222.0,217.0,210.0,225.0,213.0,215.0,210.0,220.0,210.0,225.0,217.0,220.0,208.0,220.0,208.0,224.0,208.0,221.0,214.0,231.0,219.0,230.0,214.0,229.0,220.0,223.0,216.0,221.0,221.0,217.0,216.0,230.0,209.0,220.0,215.0,223.0,212.0,221.0,212.0,224.0,212.0,228.0,218.0,218.0,212.0,230.0,218.0,228.0,212.0,224.0,214.0,226.0,216.0,222.0,203.0,225.0,219.0,228.0,215.0,228.0,216.0,215.0,210.0,219.0,208.0,209.0,216.0,229.0,213.0,230.0,217.0,230.0,217.0,222.0,214.0,null,215.0,222.0,212.0,213.0],\"xaxis\":\"x\",\"yaxis\":\"y\",\"type\":\"histogram\"}],                        {\"template\":{\"data\":{\"histogram2dcontour\":[{\"type\":\"histogram2dcontour\",\"colorbar\":{\"outlinewidth\":0,\"ticks\":\"\"},\"colorscale\":[[0.0,\"#0d0887\"],[0.1111111111111111,\"#46039f\"],[0.2222222222222222,\"#7201a8\"],[0.3333333333333333,\"#9c179e\"],[0.4444444444444444,\"#bd3786\"],[0.5555555555555556,\"#d8576b\"],[0.6666666666666666,\"#ed7953\"],[0.7777777777777778,\"#fb9f3a\"],[0.8888888888888888,\"#fdca26\"],[1.0,\"#f0f921\"]]}],\"choropleth\":[{\"type\":\"choropleth\",\"colorbar\":{\"outlinewidth\":0,\"ticks\":\"\"}}],\"histogram2d\":[{\"type\":\"histogram2d\",\"colorbar\":{\"outlinewidth\":0,\"ticks\":\"\"},\"colorscale\":[[0.0,\"#0d0887\"],[0.1111111111111111,\"#46039f\"],[0.2222222222222222,\"#7201a8\"],[0.3333333333333333,\"#9c179e\"],[0.4444444444444444,\"#bd3786\"],[0.5555555555555556,\"#d8576b\"],[0.6666666666666666,\"#ed7953\"],[0.7777777777777778,\"#fb9f3a\"],[0.8888888888888888,\"#fdca26\"],[1.0,\"#f0f921\"]]}],\"heatmap\":[{\"type\":\"heatmap\",\"colorbar\":{\"outlinewidth\":0,\"ticks\":\"\"},\"colorscale\":[[0.0,\"#0d0887\"],[0.1111111111111111,\"#46039f\"],[0.2222222222222222,\"#7201a8\"],[0.3333333333333333,\"#9c179e\"],[0.4444444444444444,\"#bd3786\"],[0.5555555555555556,\"#d8576b\"],[0.6666666666666666,\"#ed7953\"],[0.7777777777777778,\"#fb9f3a\"],[0.8888888888888888,\"#fdca26\"],[1.0,\"#f0f921\"]]}],\"heatmapgl\":[{\"type\":\"heatmapgl\",\"colorbar\":{\"outlinewidth\":0,\"ticks\":\"\"},\"colorscale\":[[0.0,\"#0d0887\"],[0.1111111111111111,\"#46039f\"],[0.2222222222222222,\"#7201a8\"],[0.3333333333333333,\"#9c179e\"],[0.4444444444444444,\"#bd3786\"],[0.5555555555555556,\"#d8576b\"],[0.6666666666666666,\"#ed7953\"],[0.7777777777777778,\"#fb9f3a\"],[0.8888888888888888,\"#fdca26\"],[1.0,\"#f0f921\"]]}],\"contourcarpet\":[{\"type\":\"contourcarpet\",\"colorbar\":{\"outlinewidth\":0,\"ticks\":\"\"}}],\"contour\":[{\"type\":\"contour\",\"colorbar\":{\"outlinewidth\":0,\"ticks\":\"\"},\"colorscale\":[[0.0,\"#0d0887\"],[0.1111111111111111,\"#46039f\"],[0.2222222222222222,\"#7201a8\"],[0.3333333333333333,\"#9c179e\"],[0.4444444444444444,\"#bd3786\"],[0.5555555555555556,\"#d8576b\"],[0.6666666666666666,\"#ed7953\"],[0.7777777777777778,\"#fb9f3a\"],[0.8888888888888888,\"#fdca26\"],[1.0,\"#f0f921\"]]}],\"surface\":[{\"type\":\"surface\",\"colorbar\":{\"outlinewidth\":0,\"ticks\":\"\"},\"colorscale\":[[0.0,\"#0d0887\"],[0.1111111111111111,\"#46039f\"],[0.2222222222222222,\"#7201a8\"],[0.3333333333333333,\"#9c179e\"],[0.4444444444444444,\"#bd3786\"],[0.5555555555555556,\"#d8576b\"],[0.6666666666666666,\"#ed7953\"],[0.7777777777777778,\"#fb9f3a\"],[0.8888888888888888,\"#fdca26\"],[1.0,\"#f0f921\"]]}],\"mesh3d\":[{\"type\":\"mesh3d\",\"colorbar\":{\"outlinewidth\":0,\"ticks\":\"\"}}],\"scatter\":[{\"fillpattern\":{\"fillmode\":\"overlay\",\"size\":10,\"solidity\":0.2},\"type\":\"scatter\"}],\"parcoords\":[{\"type\":\"parcoords\",\"line\":{\"colorbar\":{\"outlinewidth\":0,\"ticks\":\"\"}}}],\"scatterpolargl\":[{\"type\":\"scatterpolargl\",\"marker\":{\"colorbar\":{\"outlinewidth\":0,\"ticks\":\"\"}}}],\"bar\":[{\"error_x\":{\"color\":\"#2a3f5f\"},\"error_y\":{\"color\":\"#2a3f5f\"},\"marker\":{\"line\":{\"color\":\"#E5ECF6\",\"width\":0.5},\"pattern\":{\"fillmode\":\"overlay\",\"size\":10,\"solidity\":0.2}},\"type\":\"bar\"}],\"scattergeo\":[{\"type\":\"scattergeo\",\"marker\":{\"colorbar\":{\"outlinewidth\":0,\"ticks\":\"\"}}}],\"scatterpolar\":[{\"type\":\"scatterpolar\",\"marker\":{\"colorbar\":{\"outlinewidth\":0,\"ticks\":\"\"}}}],\"histogram\":[{\"marker\":{\"pattern\":{\"fillmode\":\"overlay\",\"size\":10,\"solidity\":0.2}},\"type\":\"histogram\"}],\"scattergl\":[{\"type\":\"scattergl\",\"marker\":{\"colorbar\":{\"outlinewidth\":0,\"ticks\":\"\"}}}],\"scatter3d\":[{\"type\":\"scatter3d\",\"line\":{\"colorbar\":{\"outlinewidth\":0,\"ticks\":\"\"}},\"marker\":{\"colorbar\":{\"outlinewidth\":0,\"ticks\":\"\"}}}],\"scattermapbox\":[{\"type\":\"scattermapbox\",\"marker\":{\"colorbar\":{\"outlinewidth\":0,\"ticks\":\"\"}}}],\"scatterternary\":[{\"type\":\"scatterternary\",\"marker\":{\"colorbar\":{\"outlinewidth\":0,\"ticks\":\"\"}}}],\"scattercarpet\":[{\"type\":\"scattercarpet\",\"marker\":{\"colorbar\":{\"outlinewidth\":0,\"ticks\":\"\"}}}],\"carpet\":[{\"aaxis\":{\"endlinecolor\":\"#2a3f5f\",\"gridcolor\":\"white\",\"linecolor\":\"white\",\"minorgridcolor\":\"white\",\"startlinecolor\":\"#2a3f5f\"},\"baxis\":{\"endlinecolor\":\"#2a3f5f\",\"gridcolor\":\"white\",\"linecolor\":\"white\",\"minorgridcolor\":\"white\",\"startlinecolor\":\"#2a3f5f\"},\"type\":\"carpet\"}],\"table\":[{\"cells\":{\"fill\":{\"color\":\"#EBF0F8\"},\"line\":{\"color\":\"white\"}},\"header\":{\"fill\":{\"color\":\"#C8D4E3\"},\"line\":{\"color\":\"white\"}},\"type\":\"table\"}],\"barpolar\":[{\"marker\":{\"line\":{\"color\":\"#E5ECF6\",\"width\":0.5},\"pattern\":{\"fillmode\":\"overlay\",\"size\":10,\"solidity\":0.2}},\"type\":\"barpolar\"}],\"pie\":[{\"automargin\":true,\"type\":\"pie\"}]},\"layout\":{\"autotypenumbers\":\"strict\",\"colorway\":[\"#636efa\",\"#EF553B\",\"#00cc96\",\"#ab63fa\",\"#FFA15A\",\"#19d3f3\",\"#FF6692\",\"#B6E880\",\"#FF97FF\",\"#FECB52\"],\"font\":{\"color\":\"#2a3f5f\"},\"hovermode\":\"closest\",\"hoverlabel\":{\"align\":\"left\"},\"paper_bgcolor\":\"white\",\"plot_bgcolor\":\"#E5ECF6\",\"polar\":{\"bgcolor\":\"#E5ECF6\",\"angularaxis\":{\"gridcolor\":\"white\",\"linecolor\":\"white\",\"ticks\":\"\"},\"radialaxis\":{\"gridcolor\":\"white\",\"linecolor\":\"white\",\"ticks\":\"\"}},\"ternary\":{\"bgcolor\":\"#E5ECF6\",\"aaxis\":{\"gridcolor\":\"white\",\"linecolor\":\"white\",\"ticks\":\"\"},\"baxis\":{\"gridcolor\":\"white\",\"linecolor\":\"white\",\"ticks\":\"\"},\"caxis\":{\"gridcolor\":\"white\",\"linecolor\":\"white\",\"ticks\":\"\"}},\"coloraxis\":{\"colorbar\":{\"outlinewidth\":0,\"ticks\":\"\"}},\"colorscale\":{\"sequential\":[[0.0,\"#0d0887\"],[0.1111111111111111,\"#46039f\"],[0.2222222222222222,\"#7201a8\"],[0.3333333333333333,\"#9c179e\"],[0.4444444444444444,\"#bd3786\"],[0.5555555555555556,\"#d8576b\"],[0.6666666666666666,\"#ed7953\"],[0.7777777777777778,\"#fb9f3a\"],[0.8888888888888888,\"#fdca26\"],[1.0,\"#f0f921\"]],\"sequentialminus\":[[0.0,\"#0d0887\"],[0.1111111111111111,\"#46039f\"],[0.2222222222222222,\"#7201a8\"],[0.3333333333333333,\"#9c179e\"],[0.4444444444444444,\"#bd3786\"],[0.5555555555555556,\"#d8576b\"],[0.6666666666666666,\"#ed7953\"],[0.7777777777777778,\"#fb9f3a\"],[0.8888888888888888,\"#fdca26\"],[1.0,\"#f0f921\"]],\"diverging\":[[0,\"#8e0152\"],[0.1,\"#c51b7d\"],[0.2,\"#de77ae\"],[0.3,\"#f1b6da\"],[0.4,\"#fde0ef\"],[0.5,\"#f7f7f7\"],[0.6,\"#e6f5d0\"],[0.7,\"#b8e186\"],[0.8,\"#7fbc41\"],[0.9,\"#4d9221\"],[1,\"#276419\"]]},\"xaxis\":{\"gridcolor\":\"white\",\"linecolor\":\"white\",\"ticks\":\"\",\"title\":{\"standoff\":15},\"zerolinecolor\":\"white\",\"automargin\":true,\"zerolinewidth\":2},\"yaxis\":{\"gridcolor\":\"white\",\"linecolor\":\"white\",\"ticks\":\"\",\"title\":{\"standoff\":15},\"zerolinecolor\":\"white\",\"automargin\":true,\"zerolinewidth\":2},\"scene\":{\"xaxis\":{\"backgroundcolor\":\"#E5ECF6\",\"gridcolor\":\"white\",\"linecolor\":\"white\",\"showbackground\":true,\"ticks\":\"\",\"zerolinecolor\":\"white\",\"gridwidth\":2},\"yaxis\":{\"backgroundcolor\":\"#E5ECF6\",\"gridcolor\":\"white\",\"linecolor\":\"white\",\"showbackground\":true,\"ticks\":\"\",\"zerolinecolor\":\"white\",\"gridwidth\":2},\"zaxis\":{\"backgroundcolor\":\"#E5ECF6\",\"gridcolor\":\"white\",\"linecolor\":\"white\",\"showbackground\":true,\"ticks\":\"\",\"zerolinecolor\":\"white\",\"gridwidth\":2}},\"shapedefaults\":{\"line\":{\"color\":\"#2a3f5f\"}},\"annotationdefaults\":{\"arrowcolor\":\"#2a3f5f\",\"arrowhead\":0,\"arrowwidth\":1},\"geo\":{\"bgcolor\":\"white\",\"landcolor\":\"#E5ECF6\",\"subunitcolor\":\"white\",\"showland\":true,\"showlakes\":true,\"lakecolor\":\"white\"},\"title\":{\"x\":0.05},\"mapbox\":{\"style\":\"light\"}}},\"xaxis\":{\"anchor\":\"y\",\"domain\":[0.0,1.0],\"title\":{\"text\":\"flipper_length_mm\"}},\"yaxis\":{\"anchor\":\"x\",\"domain\":[0.0,1.0],\"title\":{\"text\":\"count\"}},\"legend\":{\"tracegroupgap\":0},\"margin\":{\"t\":60},\"barmode\":\"relative\"},                        {\"responsive\": true}                    ).then(function(){\n",
       "                            \n",
       "var gd = document.getElementById('384a028d-b44d-4425-99c8-e64f94ceb349');\n",
       "var x = new MutationObserver(function (mutations, observer) {{\n",
       "        var display = window.getComputedStyle(gd).display;\n",
       "        if (!display || display === 'none') {{\n",
       "            console.log([gd, 'removed!']);\n",
       "            Plotly.purge(gd);\n",
       "            observer.disconnect();\n",
       "        }}\n",
       "}});\n",
       "\n",
       "// Listen for the removal of the full notebook cells\n",
       "var notebookContainer = gd.closest('#notebook-container');\n",
       "if (notebookContainer) {{\n",
       "    x.observe(notebookContainer, {childList: true});\n",
       "}}\n",
       "\n",
       "// Listen for the clearing of the current output cell\n",
       "var outputEl = gd.closest('.output');\n",
       "if (outputEl) {{\n",
       "    x.observe(outputEl, {childList: true});\n",
       "}}\n",
       "\n",
       "                        })                };                });            </script>        </div>"
      ]
     },
     "metadata": {},
     "output_type": "display_data"
    }
   ],
   "source": [
    "import pandas as pd \n",
    "import plotly.express as px\n",
    "pingees = pd.read_csv(\"https://raw.githubusercontent.com/mwaskom/seaborn-data/master/penguins.csv\")\n",
    "\n",
    "fig = px.histogram(pingees, x = 'flipper_length_mm')\n",
    "fig.show(render = 'png')"
   ]
  },
  {
   "cell_type": "code",
   "execution_count": 12,
   "id": "212139e2",
   "metadata": {},
   "outputs": [
    {
     "data": {
      "image/png": "[encoded data removed]"
     },
     "metadata": {},
     "output_type": "display_data"
    },
    {
     "data": {
      "image/png": "[encoded data removed]"
     },
     "metadata": {},
     "output_type": "display_data"
    },
    {
     "data": {
      "image/png": "[encoded data removed]"
     },
     "metadata": {},
     "output_type": "display_data"
    }
   ],
   "source": [
    "import pandas as pd\n",
    "import plotly.express as px\n",
    "import plotly.graph_objects as go\n",
    "\n",
    "# Load penguins dataset (replace with the correct path or method)\n",
    "# Assuming you have the dataset as a CSV or similar format\n",
    "df = pd.read_csv(\"https://raw.githubusercontent.com/mwaskom/seaborn-data/master/penguins.csv\")\n",
    "\n",
    "\n",
    "# Separate by species\n",
    "species_list = df['species'].unique()\n",
    "\n",
    "# Loop through each species\n",
    "for species in species_list:\n",
    "    species_df = df[df['species'] == species]\n",
    "    \n",
    "    # Calculate statistics\n",
    "    mean_flipper = species_df['flipper_length_mm'].mean()\n",
    "    median_flipper = species_df['flipper_length_mm'].median()\n",
    "    min_flipper = species_df['flipper_length_mm'].min()\n",
    "    max_flipper = species_df['flipper_length_mm'].max()\n",
    "    std_flipper = species_df['flipper_length_mm'].std()\n",
    "    q1 = species_df['flipper_length_mm'].quantile(0.25)\n",
    "    q3 = species_df['flipper_length_mm'].quantile(0.75)\n",
    "    \n",
    "    # Create histogram\n",
    "    fig = px.histogram(species_df, x='flipper_length_mm', nbins=20, title=f'{species} Flipper Length')\n",
    "\n",
    "    # Mark Location: Add vertical lines for mean and median\n",
    "    fig.add_vline(x=mean_flipper, line=dict(color=\"blue\", width=3), annotation_text=\"Mean\", annotation_position=\"top left\")\n",
    "    fig.add_vline(x=median_flipper, line=dict(color=\"green\", width=3), annotation_text=\"Median\", annotation_position=\"bottom right\")\n",
    "\n",
    "    # Mark Scale: Add rectangles for range, IQR, and two standard deviations\n",
    "    # Range (min to max)\n",
    "    fig.add_vrect(x0=min_flipper, x1=max_flipper, line=dict(color=\"blue\", width=2), opacity=0.2, annotation_text=\"Range\", annotation_position=\"top right\")\n",
    "    \n",
    "    # IQR (Q1 to Q3)\n",
    "    fig.add_vrect(x0=q1, x1=q3, line=dict(color=\"orange\", width=2), opacity=0.2, annotation_text=\"IQR\", annotation_position=\"top right\")\n",
    "    \n",
    "    # 2 Standard Deviations from the mean\n",
    "    fig.add_vrect(x0=mean_flipper - 2 * std_flipper, x1=mean_flipper + 2 * std_flipper, line=dict(color=\"purple\", width=2), opacity=0.2, annotation_text=\"2 Std Dev\", annotation_position=\"bottom right\")\n",
    "\n",
    "    # Show the plot\n",
    "    fig.show(renderer = 'png')\n"
   ]
  },
  {
   "cell_type": "markdown",
   "id": "e450a26a",
   "metadata": {},
   "source": [
    "**ChatGPT Chat Summary**\n",
    "Here’s a brief summary of our conversation so far:\n",
    "\n",
    "- You were tasked with marking **location** (mean, median) and **scale** (range, IQR, two standard deviations) of `flipper_length_mm` for each species in the penguins dataset on **Plotly histograms**.\n",
    "- We discussed how to:\n",
    "  - Use `add_vline()` for the **mean** and **median**.\n",
    "  - Use `add_vrect()` for the **range**, **IQR**, and the **± 2 standard deviations** range.\n",
    "- You encountered issues with the **labels overlapping** for the mean and median. I suggested adjusting `annotation_position` to avoid this overlap by placing the labels in different positions (e.g., \"top left\" and \"top right\").\n",
    "  \n",
    "Let me know if you need any further clarifications!\n",
    "\n",
    "link: https://chatgpt.com/share/66ef4382-6d1c-800d-bc66-0e597b7183be"
   ]
  },
  {
   "cell_type": "markdown",
   "id": "f7cade29",
   "metadata": {},
   "source": [
    "***Question 2***\n",
    "---"
   ]
  },
  {
   "cell_type": "code",
   "execution_count": 4,
   "id": "c68e59c0",
   "metadata": {},
   "outputs": [
    {
     "data": {
      "image/png": "[encoded data removed]",
      "text/plain": [
       "<Figure size 1500x500 with 3 Axes>"
      ]
     },
     "metadata": {},
     "output_type": "display_data"
    }
   ],
   "source": [
    "import pandas as pd\n",
    "import seaborn as sns\n",
    "import matplotlib.pyplot as plt\n",
    "\n",
    "# Load penguins dataset (replace with the correct path)\n",
    "df = pd.read_csv(\"https://raw.githubusercontent.com/mwaskom/seaborn-data/master/penguins.csv\")\n",
    "\n",
    "# Separate by species\n",
    "species_list = df['species'].unique()\n",
    "\n",
    "# Set up the number of rows and columns for subplots\n",
    "num_plots = len(species_list)\n",
    "num_cols = 3\n",
    "num_rows = (num_plots + num_cols - 1) // num_cols  # Calculate required rows\n",
    "\n",
    "# Create a figure with subplots\n",
    "fig, axes = plt.subplots(num_rows, num_cols, figsize=(15, 5 * num_rows))\n",
    "axes = axes.flatten()  # Flatten the 2D array of axes\n",
    "\n",
    "# Loop through each species and create a KDE plot\n",
    "for i, species in enumerate(species_list):\n",
    "    species_df = df[df['species'] == species]\n",
    "    \n",
    "    # Calculate statistics\n",
    "    mean_flipper = species_df['flipper_length_mm'].mean()\n",
    "    median_flipper = species_df['flipper_length_mm'].median()\n",
    "    min_flipper = species_df['flipper_length_mm'].min()\n",
    "    max_flipper = species_df['flipper_length_mm'].max()\n",
    "    std_flipper = species_df['flipper_length_mm'].std()\n",
    "    q1 = species_df['flipper_length_mm'].quantile(0.25)\n",
    "    q3 = species_df['flipper_length_mm'].quantile(0.75)\n",
    "\n",
    "    # Create KDE plot without fill on the corresponding axis\n",
    "    sns.kdeplot(species_df['flipper_length_mm'], color='gray', linewidth=2, ax=axes[i])\n",
    "\n",
    "    # Add vertical lines for mean and median\n",
    "    axes[i].axvline(mean_flipper, color='blue', linestyle='--', linewidth=2, label='Mean')\n",
    "    axes[i].axvline(median_flipper, color='green', linestyle='--', linewidth=2, label='Median')\n",
    "\n",
    "    # Add shaded areas for range, IQR, and two standard deviations\n",
    "    axes[i].axvspan(min_flipper, max_flipper, color='blue', alpha=0.1, label='Range')\n",
    "    axes[i].axvspan(q1, q3, color='orange', alpha=0.1, label='IQR')\n",
    "    axes[i].axvspan(mean_flipper - 2 * std_flipper, mean_flipper + 2 * std_flipper, color='purple', alpha=0.1, label='2 Std Dev')\n",
    "\n",
    "    # Set titles and labels\n",
    "    axes[i].set_title(f'Kernel Density Plot of Flipper Length for {species}')\n",
    "    axes[i].set_xlabel('Flipper Length (mm)')\n",
    "    axes[i].set_ylabel('Density')\n",
    "    axes[i].legend()\n",
    "    axes[i].grid()\n",
    "\n",
    "# Hide any unused subplots\n",
    "for j in range(i + 1, num_rows * num_cols):\n",
    "    fig.delaxes(axes[j])\n",
    "\n",
    "# Adjust layout with more space between graphs\n",
    "plt.subplots_adjust(wspace=0.4, hspace=0.4)  # Adjust these values as needed\n",
    "\n",
    "# Render the plot inline in the notebook without saving to a file\n",
    "plt.show()"
   ]
  },
  {
   "cell_type": "markdown",
   "id": "3ee13409",
   "metadata": {},
   "source": [
    "***ChatGPT Chat Summary***\n",
    "Here’s a summary of our conversation:\n",
    "\n",
    "1. **Kernel Density Diagrams**: You asked about kernel density diagrams, and I explained their purpose and how they differ from histograms.\n",
    "\n",
    "2. **KDE Plots for Penguins Dataset**: We discussed how to create kernel density estimation (KDE) plots for the penguins dataset to visualize `flipper_length_mm` while marking key statistics (mean, median, range, IQR, and ±2 standard deviations).\n",
    "\n",
    "3. **Plot Adjustments**: You requested modifications to remove fill color in the KDE plots and organize the plots in rows of three.\n",
    "\n",
    "4. **Spacing Between Plots**: You asked for increased spacing between the subplots, and I provided code to adjust the layout for better visual separation.\n",
    "\n",
    "If you need anything else or have further questions, feel free to ask!\n",
    "\n",
    "link: https://chatgpt.com/share/66ef4382-6d1c-800d-bc66-0e597b7183be"
   ]
  },
  {
   "cell_type": "markdown",
   "id": "08fef4e7",
   "metadata": {},
   "source": [
    "***Question 3***\n",
    "---\n",
    "Of the three data types, I personally prefer kernel density diagrams because it displays the shape, density, and distribution of the data the best. While box plots, are good for creating a summary of the data, it does not show the shape of the data distribution. It is impossible to tell if a dataset is modal or bimodal through its box and whisker graph. Kernel density diagrams on the other hand clearly show the shape of the data distribution. Histograms can be seen as a bar graph alternative for continuous data sets. But while histograms show frequency counts, kernel density diagrams show the probability density. This is an advantage because it allows us to calculate the probability of a value being within a exact range. One downside of kernel density diagrams, is that fine details in the data are obscured by the smoothness of the curve. "
   ]
  },
  {
   "cell_type": "markdown",
   "id": "d1543ee7",
   "metadata": {},
   "source": [
    "***ChatGPT Chat Summary***\n",
    "In this discussion, we compared **histograms**, **kernel density diagrams (KDE plots)**, and **box plots** by refining your initial explanation and analyzing the **pros and cons** of each type of data visualization. We highlighted how histograms display frequency counts of data within bins, while KDE plots offer a smoother view of the data’s **probability density**, better capturing the shape and modality of the distribution. Box plots were noted for their ability to summarize data through quartiles and outliers, but they don’t provide detailed insights into the distribution’s shape.\n",
    "\n",
    "We also explored **why probability density** (as used in KDE plots) can be more informative than frequency (in histograms). Key reasons included better normalization across different sample sizes, easier interpretation of distribution shapes, and better handling of continuous data.\n",
    "\n",
    "Would you like to explore any of these ideas further?\n",
    "link: https://chatgpt.com/share/66f04671-24c8-800d-9145-4811ce5e7507\n"
   ]
  },
  {
   "cell_type": "markdown",
   "id": "f20e553e",
   "metadata": {},
   "source": [
    "***Question 4***\n",
    "---\n"
   ]
  },
  {
   "cell_type": "code",
   "execution_count": 4,
   "id": "bebfacea",
   "metadata": {},
   "outputs": [
    {
     "data": {
      "image/png": "[encoded data removed]"
     },
     "metadata": {},
     "output_type": "display_data"
    },
    {
     "name": "stdout",
     "output_type": "stream",
     "text": [
      "5.030617050586211 4.996155985053012 5.028197324225104 6.003897015146594\n",
      "8.244705779086662 2.1173862938578005 9.267932739736686 0.23657784493223807\n"
     ]
    }
   ],
   "source": [
    "from scipy import stats\n",
    "import plotly.graph_objects as go\n",
    "from plotly.subplots import make_subplots\n",
    "import numpy as np\n",
    "\n",
    "n = 1500\n",
    "data1 = stats.uniform.rvs(0, 10, size=n)\n",
    "data2 = stats.norm.rvs(5, 1.5, size=n)\n",
    "data3 = np.r_[stats.norm.rvs(2, 0.25, size=int(n/2)), stats.norm.rvs(8, 0.5, size=int(n/2))]\n",
    "data4 = stats.norm.rvs(6, 0.5, size=n)\n",
    "fig = make_subplots(rows=1, cols=4)\n",
    "\n",
    "fig.add_trace(go.Histogram(x=data1, name='A', nbinsx=30, marker=dict(line=dict(color='black', width=1))), row=1, col=1)\n",
    "fig.add_trace(go.Histogram(x=data2, name='B', nbinsx=15, marker=dict(line=dict(color='black', width=1))), row=1, col=2)\n",
    "fig.add_trace(go.Histogram(x=data3, name='C', nbinsx=45, marker=dict(line=dict(color='black', width=1))), row=1, col=3)\n",
    "fig.add_trace(go.Histogram(x=data4, name='D', nbinsx=15, marker=dict(line=dict(color='black', width=1))), row=1, col=4)\n",
    "\n",
    "fig.update_layout(height=300, width=750, title_text=\"Row of Histograms\")\n",
    "fig.update_xaxes(title_text=\"A\", row=1, col=1)\n",
    "fig.update_xaxes(title_text=\"B\", row=1, col=2)\n",
    "fig.update_xaxes(title_text=\"C\", row=1, col=3)\n",
    "fig.update_xaxes(title_text=\"D\", row=1, col=4)\n",
    "fig.update_xaxes(range=[-0.5, 10.5])\n",
    "\n",
    "for trace in fig.data:\n",
    "    trace.xbins = dict(start=0, end=10)\n",
    "    \n",
    "# This code was produced by just making requests to Microsoft Copilot\n",
    "# https://github.com/pointOfive/stat130chat130/blob/main/CHATLOG/wk3/COP/SLS/0001_concise_makeAplotV1.md\n",
    "\n",
    "fig.show(renderer = 'png') # USE `fig.show(renderer=\"png\")` FOR ALL GitHub and MarkUs SUBMISSIONS\n",
    "\n",
    "print(data1.mean(), data2.mean(), data3.mean(), data4.mean())\n",
    "print(data1.var(), data2.var(), data3.var(), data4.var())"
   ]
  },
  {
   "cell_type": "markdown",
   "id": "e80e6a23",
   "metadata": {},
   "source": [
    "**Graphs with similair means** - Graphs A, B, and C have similair means. The mean is the sum of the values of all data points divided by the number of data points. Graph A has an equal distribution of values from 0 to 10, so if you summed all those values and divided by the number of values you would get a mean close to 5. Graph B has a high concentration of values at 5, and because it is symetric the values on the two sides of the peak will average out to 5, resulting in a mean of 5. Graph C has an equal concentration of values to the right of 5 and to the left of 5. Those values are equidistant from 5, resulting in a mean of 5. Graph D has a high concentration of values to the right of 5, resulting in a mean greater than 5.\n",
    "\n",
    "**Graphs with similair variances** - The variance is a calculation of how spread apart the data is, or the average distance of each value point from the mean.  Graphs A and C have similair variances, as most values in both graphs are pretty far from the mean. Graphs B and D have different variances as the concentration of values in graph B is more spread out when compared to graph D. \n",
    "\n",
    "1. From the explanation above, graphs A and C have similair mean and variance.\n",
    "2. Graphs B and A have similair means but different variances. Graphs B and C have similair means but different variances. \n",
    "3. None of the graphs have similair variances but different means as justified above. \n",
    "4. Graphs B and D have different means and different variances. \n"
   ]
  },
  {
   "cell_type": "markdown",
   "id": "e733e978",
   "metadata": {},
   "source": [
    "***Question 5***\n",
    "---\n"
   ]
  },
  {
   "cell_type": "markdown",
   "id": "b79fbd42",
   "metadata": {},
   "source": [
    "In a perfectly symmetrical histogram the mean and median would be the same value. In a histogram that has a right skew (values trailing to the right), the mean would be greater than the median. This is because even though there are equal number of data points on the right and left, the value of the data points on the right are very high and pull the mean to the right.  "
   ]
  },
  {
   "cell_type": "code",
   "execution_count": 13,
   "id": "82675ee4",
   "metadata": {},
   "outputs": [
    {
     "data": {
      "image/png": "[encoded data removed]"
     },
     "metadata": {},
     "output_type": "display_data"
    },
    {
     "name": "stdout",
     "output_type": "stream",
     "text": [
      "Mean: 4.128364971860998, Median: 3.4918008961007176\n"
     ]
    }
   ],
   "source": [
    "from scipy import stats\n",
    "import pandas as pd\n",
    "import numpy as np\n",
    "import plotly.express as px\n",
    "\n",
    "# Generate the gamma-distributed data\n",
    "sample1 = stats.gamma(a=2, scale=2).rvs(size=1000)\n",
    "\n",
    "# Create the histogram\n",
    "fig1 = px.histogram(pd.DataFrame({'data': sample1}), x=\"data\")\n",
    "\n",
    "# Calculate the mean and median\n",
    "mean1 = sample1.mean()  # Calculating the mean\n",
    "median1 = np.median(sample1)  # Calculating the median\n",
    "\n",
    "# Add vertical lines for the mean and median\n",
    "fig1.add_vline(x=mean1, line=dict(color=\"blue\", width=3), annotation_text=\"Mean\", annotation_position=\"top left\")\n",
    "fig1.add_vline(x=median1, line=dict(color=\"green\", width=3), annotation_text=\"Median\", annotation_position=\"bottom right\")\n",
    "\n",
    "# Display the plot with the added mean and median lines\n",
    "fig1.show(renderer=\"png\")\n",
    "\n",
    "# Mean and median values\n",
    "print(f\"Mean: {mean1}, Median: {median1}\")\n",
    "\n",
    "# Generate negatively skewed data for the second sample\n",
    "sample2 = -stats.gamma(a=2, scale=2).rvs(size=1000)\n"
   ]
  },
  {
   "cell_type": "markdown",
   "id": "8487f5ca",
   "metadata": {},
   "source": [
    "When the graph is left skew then the mean is less than the median because the values on the left pull the mean towards the left. "
   ]
  },
  {
   "cell_type": "code",
   "execution_count": 14,
   "id": "2ab84924",
   "metadata": {},
   "outputs": [
    {
     "data": {
      "image/png": "[encoded data removed]"
     },
     "metadata": {},
     "output_type": "display_data"
    },
    {
     "name": "stdout",
     "output_type": "stream",
     "text": [
      "Sample 1 - Mean: 4.128364971860998, Median: 3.4918008961007176\n",
      "Sample 2 - Mean: -4.0503552021471965, Median: -3.3770787686589365\n"
     ]
    }
   ],
   "source": [
    "# Sample 2: Negatively skewed gamma-distributed data\n",
    "sample2 = -stats.gamma(a=2, scale=2).rvs(size=1000)\n",
    "\n",
    "# Create the histogram for sample 2\n",
    "fig2 = px.histogram(pd.DataFrame({'data': sample2}), x=\"data\")\n",
    "\n",
    "# Calculate mean and median for sample 2\n",
    "mean2 = sample2.mean()  # Mean\n",
    "median2 = np.median(sample2)  # Median\n",
    "\n",
    "# Add vertical lines for mean and median in sample 2\n",
    "fig2.add_vline(x=mean2, line=dict(color=\"blue\", width=3), annotation_text=\"Mean\", annotation_position=\"top left\")\n",
    "fig2.add_vline(x=median2, line=dict(color=\"green\", width=3), annotation_text=\"Median\", annotation_position=\"bottom right\")\n",
    "\n",
    "# Display the plot for sample 2\n",
    "fig2.show(renderer=\"png\")\n",
    "\n",
    "# Print the means and medians for both samples\n",
    "print(f\"Sample 1 - Mean: {mean1}, Median: {median1}\")\n",
    "print(f\"Sample 2 - Mean: {mean2}, Median: {median2}\")"
   ]
  },
  {
   "cell_type": "markdown",
   "id": "f818766e",
   "metadata": {},
   "source": [
    "\n",
    "\n",
    "***ChatGPT Chat Summary***\n",
    "\n",
    "Here’s a more concise explanation of working with medians in a `pandas` DataFrame:\n",
    "\n",
    "### Finding the Median of a DataFrame\n",
    "\n",
    "1. **Basic Median Calculation**:\n",
    "   Use `df.median()` to find the median of each numerical column.\n",
    "\n",
    "   ```python\n",
    "   import pandas as pd\n",
    "\n",
    "   data = {'A': [1, 2, 3, 4, 5], 'B': [10, 20, 30, 40, 50]}\n",
    "   df = pd.DataFrame(data)\n",
    "   median_values = df.median()\n",
    "   print(median_values)  # A: 3.0, B: 30.0\n",
    "   ```\n",
    "\n",
    "2. **Median for a Specific Column**:\n",
    "   To calculate the median of a single column:\n",
    "   ```python\n",
    "   median_A = df['A'].median()\n",
    "   ```\n",
    "\n",
    "3. **Handling Missing Values**:\n",
    "   By default, `median()` skips `NaN` values:\n",
    "   ```python\n",
    "   df.median(skipna=True)\n",
    "   ```\n",
    "\n",
    "4. **Median Across Rows**:\n",
    "   Use `axis=1` to calculate the median across rows:\n",
    "   ```python\n",
    "   df.median(axis=1)\n",
    "   ```\n",
    "\n",
    "5. **Grouped Data**:\n",
    "   Use `groupby()` to calculate the median for each group:\n",
    "   ```python\n",
    "   df.groupby('Group').median()\n",
    "   ```\n",
    "\n",
    "This covers the essential use cases of calculating the median in `pandas`. Let me know if you need further details!\n",
    "\n",
    "link: https://chatgpt.com/share/66f18dc0-3900-800d-b1b9-b3f0abbb903f"
   ]
  },
  {
   "cell_type": "markdown",
   "id": "29c05632",
   "metadata": {},
   "source": [
    "***Question 6***\n",
    "---\n"
   ]
  },
  {
   "cell_type": "markdown",
   "id": "32c0c572",
   "metadata": {},
   "source": [
    "1. Import the data set. View header of dataset and check for missing value. Clean dataset if needed. "
   ]
  },
  {
   "cell_type": "code",
   "execution_count": 6,
   "id": "c46c5790",
   "metadata": {},
   "outputs": [
    {
     "data": {
      "text/html": [
       "<div>\n",
       "<style scoped>\n",
       "    .dataframe tbody tr th:only-of-type {\n",
       "        vertical-align: middle;\n",
       "    }\n",
       "\n",
       "    .dataframe tbody tr th {\n",
       "        vertical-align: top;\n",
       "    }\n",
       "\n",
       "    .dataframe thead th {\n",
       "        text-align: right;\n",
       "    }\n",
       "</style>\n",
       "<table border=\"1\" class=\"dataframe\">\n",
       "  <thead>\n",
       "    <tr style=\"text-align: right;\">\n",
       "      <th></th>\n",
       "      <th>restaurant id</th>\n",
       "      <th>category id</th>\n",
       "      <th>item id</th>\n",
       "      <th>serving size (oz)</th>\n",
       "      <th>calories</th>\n",
       "      <th>calories from fat</th>\n",
       "      <th>total fat (g)</th>\n",
       "      <th>total fat (% daily value)</th>\n",
       "      <th>saturated fat (g)</th>\n",
       "      <th>saturated fat (% daily value)</th>\n",
       "      <th>...</th>\n",
       "      <th>carbohydrates (g)</th>\n",
       "      <th>carbohydrates (% daily value)</th>\n",
       "      <th>dietary fiber (g)</th>\n",
       "      <th>dietary fiber (% daily value)</th>\n",
       "      <th>sugars (g)</th>\n",
       "      <th>protein (g)</th>\n",
       "      <th>vitamin a (% daily value)</th>\n",
       "      <th>vitamin c (% daily value)</th>\n",
       "      <th>calcium (% daily value)</th>\n",
       "      <th>iron (% daily value)</th>\n",
       "    </tr>\n",
       "  </thead>\n",
       "  <tbody>\n",
       "    <tr>\n",
       "      <th>0</th>\n",
       "      <td>1000</td>\n",
       "      <td>100</td>\n",
       "      <td>0</td>\n",
       "      <td>4.8</td>\n",
       "      <td>300</td>\n",
       "      <td>120.0</td>\n",
       "      <td>13.0</td>\n",
       "      <td>20.0</td>\n",
       "      <td>5.0</td>\n",
       "      <td>25.0</td>\n",
       "      <td>...</td>\n",
       "      <td>31</td>\n",
       "      <td>10.0</td>\n",
       "      <td>4</td>\n",
       "      <td>17.0</td>\n",
       "      <td>3.0</td>\n",
       "      <td>17.0</td>\n",
       "      <td>10.0</td>\n",
       "      <td>0.0</td>\n",
       "      <td>25.0</td>\n",
       "      <td>15.0</td>\n",
       "    </tr>\n",
       "    <tr>\n",
       "      <th>1</th>\n",
       "      <td>1000</td>\n",
       "      <td>100</td>\n",
       "      <td>1</td>\n",
       "      <td>4.8</td>\n",
       "      <td>250</td>\n",
       "      <td>70.0</td>\n",
       "      <td>8.0</td>\n",
       "      <td>12.0</td>\n",
       "      <td>3.0</td>\n",
       "      <td>15.0</td>\n",
       "      <td>...</td>\n",
       "      <td>30</td>\n",
       "      <td>10.0</td>\n",
       "      <td>4</td>\n",
       "      <td>17.0</td>\n",
       "      <td>3.0</td>\n",
       "      <td>18.0</td>\n",
       "      <td>6.0</td>\n",
       "      <td>0.0</td>\n",
       "      <td>25.0</td>\n",
       "      <td>8.0</td>\n",
       "    </tr>\n",
       "    <tr>\n",
       "      <th>2</th>\n",
       "      <td>1000</td>\n",
       "      <td>100</td>\n",
       "      <td>2</td>\n",
       "      <td>3.9</td>\n",
       "      <td>370</td>\n",
       "      <td>200.0</td>\n",
       "      <td>23.0</td>\n",
       "      <td>35.0</td>\n",
       "      <td>8.0</td>\n",
       "      <td>42.0</td>\n",
       "      <td>...</td>\n",
       "      <td>29</td>\n",
       "      <td>10.0</td>\n",
       "      <td>4</td>\n",
       "      <td>17.0</td>\n",
       "      <td>2.0</td>\n",
       "      <td>14.0</td>\n",
       "      <td>8.0</td>\n",
       "      <td>0.0</td>\n",
       "      <td>25.0</td>\n",
       "      <td>10.0</td>\n",
       "    </tr>\n",
       "    <tr>\n",
       "      <th>3</th>\n",
       "      <td>1000</td>\n",
       "      <td>100</td>\n",
       "      <td>3</td>\n",
       "      <td>5.7</td>\n",
       "      <td>450</td>\n",
       "      <td>250.0</td>\n",
       "      <td>28.0</td>\n",
       "      <td>43.0</td>\n",
       "      <td>10.0</td>\n",
       "      <td>52.0</td>\n",
       "      <td>...</td>\n",
       "      <td>30</td>\n",
       "      <td>10.0</td>\n",
       "      <td>4</td>\n",
       "      <td>17.0</td>\n",
       "      <td>2.0</td>\n",
       "      <td>21.0</td>\n",
       "      <td>15.0</td>\n",
       "      <td>0.0</td>\n",
       "      <td>30.0</td>\n",
       "      <td>15.0</td>\n",
       "    </tr>\n",
       "    <tr>\n",
       "      <th>4</th>\n",
       "      <td>1000</td>\n",
       "      <td>100</td>\n",
       "      <td>4</td>\n",
       "      <td>5.7</td>\n",
       "      <td>400</td>\n",
       "      <td>210.0</td>\n",
       "      <td>23.0</td>\n",
       "      <td>35.0</td>\n",
       "      <td>8.0</td>\n",
       "      <td>42.0</td>\n",
       "      <td>...</td>\n",
       "      <td>30</td>\n",
       "      <td>10.0</td>\n",
       "      <td>4</td>\n",
       "      <td>17.0</td>\n",
       "      <td>2.0</td>\n",
       "      <td>21.0</td>\n",
       "      <td>6.0</td>\n",
       "      <td>0.0</td>\n",
       "      <td>25.0</td>\n",
       "      <td>10.0</td>\n",
       "    </tr>\n",
       "    <tr>\n",
       "      <th>...</th>\n",
       "      <td>...</td>\n",
       "      <td>...</td>\n",
       "      <td>...</td>\n",
       "      <td>...</td>\n",
       "      <td>...</td>\n",
       "      <td>...</td>\n",
       "      <td>...</td>\n",
       "      <td>...</td>\n",
       "      <td>...</td>\n",
       "      <td>...</td>\n",
       "      <td>...</td>\n",
       "      <td>...</td>\n",
       "      <td>...</td>\n",
       "      <td>...</td>\n",
       "      <td>...</td>\n",
       "      <td>...</td>\n",
       "      <td>...</td>\n",
       "      <td>...</td>\n",
       "      <td>...</td>\n",
       "      <td>...</td>\n",
       "      <td>...</td>\n",
       "    </tr>\n",
       "    <tr>\n",
       "      <th>745</th>\n",
       "      <td>3000</td>\n",
       "      <td>130</td>\n",
       "      <td>745</td>\n",
       "      <td>NaN</td>\n",
       "      <td>180</td>\n",
       "      <td>NaN</td>\n",
       "      <td>14.0</td>\n",
       "      <td>NaN</td>\n",
       "      <td>NaN</td>\n",
       "      <td>NaN</td>\n",
       "      <td>...</td>\n",
       "      <td>12</td>\n",
       "      <td>NaN</td>\n",
       "      <td>3</td>\n",
       "      <td>NaN</td>\n",
       "      <td>NaN</td>\n",
       "      <td>4.0</td>\n",
       "      <td>NaN</td>\n",
       "      <td>NaN</td>\n",
       "      <td>NaN</td>\n",
       "      <td>NaN</td>\n",
       "    </tr>\n",
       "    <tr>\n",
       "      <th>746</th>\n",
       "      <td>3000</td>\n",
       "      <td>130</td>\n",
       "      <td>746</td>\n",
       "      <td>NaN</td>\n",
       "      <td>190</td>\n",
       "      <td>NaN</td>\n",
       "      <td>18.0</td>\n",
       "      <td>NaN</td>\n",
       "      <td>NaN</td>\n",
       "      <td>NaN</td>\n",
       "      <td>...</td>\n",
       "      <td>6</td>\n",
       "      <td>NaN</td>\n",
       "      <td>3</td>\n",
       "      <td>NaN</td>\n",
       "      <td>NaN</td>\n",
       "      <td>7.0</td>\n",
       "      <td>NaN</td>\n",
       "      <td>NaN</td>\n",
       "      <td>NaN</td>\n",
       "      <td>NaN</td>\n",
       "    </tr>\n",
       "    <tr>\n",
       "      <th>747</th>\n",
       "      <td>3000</td>\n",
       "      <td>100</td>\n",
       "      <td>747</td>\n",
       "      <td>NaN</td>\n",
       "      <td>340</td>\n",
       "      <td>NaN</td>\n",
       "      <td>13.0</td>\n",
       "      <td>NaN</td>\n",
       "      <td>NaN</td>\n",
       "      <td>NaN</td>\n",
       "      <td>...</td>\n",
       "      <td>38</td>\n",
       "      <td>NaN</td>\n",
       "      <td>0</td>\n",
       "      <td>NaN</td>\n",
       "      <td>NaN</td>\n",
       "      <td>18.0</td>\n",
       "      <td>NaN</td>\n",
       "      <td>NaN</td>\n",
       "      <td>NaN</td>\n",
       "      <td>NaN</td>\n",
       "    </tr>\n",
       "    <tr>\n",
       "      <th>748</th>\n",
       "      <td>3000</td>\n",
       "      <td>100</td>\n",
       "      <td>748</td>\n",
       "      <td>NaN</td>\n",
       "      <td>90</td>\n",
       "      <td>NaN</td>\n",
       "      <td>8.0</td>\n",
       "      <td>NaN</td>\n",
       "      <td>NaN</td>\n",
       "      <td>NaN</td>\n",
       "      <td>...</td>\n",
       "      <td>5</td>\n",
       "      <td>NaN</td>\n",
       "      <td>4</td>\n",
       "      <td>NaN</td>\n",
       "      <td>NaN</td>\n",
       "      <td>1.0</td>\n",
       "      <td>NaN</td>\n",
       "      <td>NaN</td>\n",
       "      <td>NaN</td>\n",
       "      <td>NaN</td>\n",
       "    </tr>\n",
       "    <tr>\n",
       "      <th>749</th>\n",
       "      <td>3000</td>\n",
       "      <td>100</td>\n",
       "      <td>749</td>\n",
       "      <td>NaN</td>\n",
       "      <td>90</td>\n",
       "      <td>NaN</td>\n",
       "      <td>0.0</td>\n",
       "      <td>NaN</td>\n",
       "      <td>NaN</td>\n",
       "      <td>NaN</td>\n",
       "      <td>...</td>\n",
       "      <td>24</td>\n",
       "      <td>NaN</td>\n",
       "      <td>4</td>\n",
       "      <td>NaN</td>\n",
       "      <td>NaN</td>\n",
       "      <td>1.0</td>\n",
       "      <td>NaN</td>\n",
       "      <td>NaN</td>\n",
       "      <td>NaN</td>\n",
       "      <td>NaN</td>\n",
       "    </tr>\n",
       "  </tbody>\n",
       "</table>\n",
       "<p>750 rows × 25 columns</p>\n",
       "</div>"
      ],
      "text/plain": [
       "     restaurant id  category id  item id  serving size (oz)  calories  \\\n",
       "0             1000          100        0                4.8       300   \n",
       "1             1000          100        1                4.8       250   \n",
       "2             1000          100        2                3.9       370   \n",
       "3             1000          100        3                5.7       450   \n",
       "4             1000          100        4                5.7       400   \n",
       "..             ...          ...      ...                ...       ...   \n",
       "745           3000          130      745                NaN       180   \n",
       "746           3000          130      746                NaN       190   \n",
       "747           3000          100      747                NaN       340   \n",
       "748           3000          100      748                NaN        90   \n",
       "749           3000          100      749                NaN        90   \n",
       "\n",
       "     calories from fat total fat (g)  total fat (% daily value)  \\\n",
       "0                120.0          13.0                       20.0   \n",
       "1                 70.0           8.0                       12.0   \n",
       "2                200.0          23.0                       35.0   \n",
       "3                250.0          28.0                       43.0   \n",
       "4                210.0          23.0                       35.0   \n",
       "..                 ...           ...                        ...   \n",
       "745                NaN          14.0                        NaN   \n",
       "746                NaN          18.0                        NaN   \n",
       "747                NaN          13.0                        NaN   \n",
       "748                NaN           8.0                        NaN   \n",
       "749                NaN           0.0                        NaN   \n",
       "\n",
       "     saturated fat (g)  saturated fat (% daily value)  ...  carbohydrates (g)  \\\n",
       "0                  5.0                           25.0  ...                 31   \n",
       "1                  3.0                           15.0  ...                 30   \n",
       "2                  8.0                           42.0  ...                 29   \n",
       "3                 10.0                           52.0  ...                 30   \n",
       "4                  8.0                           42.0  ...                 30   \n",
       "..                 ...                            ...  ...                ...   \n",
       "745                NaN                            NaN  ...                 12   \n",
       "746                NaN                            NaN  ...                  6   \n",
       "747                NaN                            NaN  ...                 38   \n",
       "748                NaN                            NaN  ...                  5   \n",
       "749                NaN                            NaN  ...                 24   \n",
       "\n",
       "     carbohydrates (% daily value)  dietary fiber (g)  \\\n",
       "0                             10.0                  4   \n",
       "1                             10.0                  4   \n",
       "2                             10.0                  4   \n",
       "3                             10.0                  4   \n",
       "4                             10.0                  4   \n",
       "..                             ...                ...   \n",
       "745                            NaN                  3   \n",
       "746                            NaN                  3   \n",
       "747                            NaN                  0   \n",
       "748                            NaN                  4   \n",
       "749                            NaN                  4   \n",
       "\n",
       "     dietary fiber (% daily value)  sugars (g)  protein (g)  \\\n",
       "0                             17.0         3.0         17.0   \n",
       "1                             17.0         3.0         18.0   \n",
       "2                             17.0         2.0         14.0   \n",
       "3                             17.0         2.0         21.0   \n",
       "4                             17.0         2.0         21.0   \n",
       "..                             ...         ...          ...   \n",
       "745                            NaN         NaN          4.0   \n",
       "746                            NaN         NaN          7.0   \n",
       "747                            NaN         NaN         18.0   \n",
       "748                            NaN         NaN          1.0   \n",
       "749                            NaN         NaN          1.0   \n",
       "\n",
       "     vitamin a (% daily value)  vitamin c (% daily value)  \\\n",
       "0                         10.0                        0.0   \n",
       "1                          6.0                        0.0   \n",
       "2                          8.0                        0.0   \n",
       "3                         15.0                        0.0   \n",
       "4                          6.0                        0.0   \n",
       "..                         ...                        ...   \n",
       "745                        NaN                        NaN   \n",
       "746                        NaN                        NaN   \n",
       "747                        NaN                        NaN   \n",
       "748                        NaN                        NaN   \n",
       "749                        NaN                        NaN   \n",
       "\n",
       "     calcium (% daily value)  iron (% daily value)  \n",
       "0                       25.0                  15.0  \n",
       "1                       25.0                   8.0  \n",
       "2                       25.0                  10.0  \n",
       "3                       30.0                  15.0  \n",
       "4                       25.0                  10.0  \n",
       "..                       ...                   ...  \n",
       "745                      NaN                   NaN  \n",
       "746                      NaN                   NaN  \n",
       "747                      NaN                   NaN  \n",
       "748                      NaN                   NaN  \n",
       "749                      NaN                   NaN  \n",
       "\n",
       "[750 rows x 25 columns]"
      ]
     },
     "execution_count": 6,
     "metadata": {},
     "output_type": "execute_result"
    }
   ],
   "source": [
    "import pandas as pd\n",
    "df = pd.read_csv(\"https://raw.githubusercontent.com/manuelamc14/fast-food-Nutritional-Database/main/Tables/nutrition.csv\")\n",
    "df"
   ]
  },
  {
   "cell_type": "code",
   "execution_count": 7,
   "id": "5f6e8d46",
   "metadata": {},
   "outputs": [
    {
     "data": {
      "text/plain": [
       "array([1000, 2000, 3000])"
      ]
     },
     "execution_count": 7,
     "metadata": {},
     "output_type": "execute_result"
    }
   ],
   "source": [
    "df.head"
   ]
  },
  {
   "cell_type": "markdown",
   "id": "eb291fe2",
   "metadata": {},
   "source": [
    "Cleaning data by dropping rows with missing values. "
   ]
  },
  {
   "cell_type": "code",
   "execution_count": 8,
   "id": "47ff107f",
   "metadata": {},
   "outputs": [
    {
     "data": {
      "text/html": [
       "<div>\n",
       "<style scoped>\n",
       "    .dataframe tbody tr th:only-of-type {\n",
       "        vertical-align: middle;\n",
       "    }\n",
       "\n",
       "    .dataframe tbody tr th {\n",
       "        vertical-align: top;\n",
       "    }\n",
       "\n",
       "    .dataframe thead th {\n",
       "        text-align: right;\n",
       "    }\n",
       "</style>\n",
       "<table border=\"1\" class=\"dataframe\">\n",
       "  <thead>\n",
       "    <tr style=\"text-align: right;\">\n",
       "      <th></th>\n",
       "      <th>restaurant id</th>\n",
       "      <th>category id</th>\n",
       "      <th>item id</th>\n",
       "      <th>serving size (oz)</th>\n",
       "      <th>calories</th>\n",
       "      <th>calories from fat</th>\n",
       "      <th>total fat (g)</th>\n",
       "      <th>total fat (% daily value)</th>\n",
       "      <th>saturated fat (g)</th>\n",
       "      <th>saturated fat (% daily value)</th>\n",
       "      <th>...</th>\n",
       "      <th>carbohydrates (g)</th>\n",
       "      <th>carbohydrates (% daily value)</th>\n",
       "      <th>dietary fiber (g)</th>\n",
       "      <th>dietary fiber (% daily value)</th>\n",
       "      <th>sugars (g)</th>\n",
       "      <th>protein (g)</th>\n",
       "      <th>vitamin a (% daily value)</th>\n",
       "      <th>vitamin c (% daily value)</th>\n",
       "      <th>calcium (% daily value)</th>\n",
       "      <th>iron (% daily value)</th>\n",
       "    </tr>\n",
       "  </thead>\n",
       "  <tbody>\n",
       "    <tr>\n",
       "      <th>0</th>\n",
       "      <td>1000</td>\n",
       "      <td>100</td>\n",
       "      <td>0</td>\n",
       "      <td>4.8</td>\n",
       "      <td>300</td>\n",
       "      <td>120.0</td>\n",
       "      <td>13.0</td>\n",
       "      <td>20.0</td>\n",
       "      <td>5.0</td>\n",
       "      <td>25.0</td>\n",
       "      <td>...</td>\n",
       "      <td>31</td>\n",
       "      <td>10.0</td>\n",
       "      <td>4</td>\n",
       "      <td>17.0</td>\n",
       "      <td>3.0</td>\n",
       "      <td>17.0</td>\n",
       "      <td>10.0</td>\n",
       "      <td>0.0</td>\n",
       "      <td>25.0</td>\n",
       "      <td>15.0</td>\n",
       "    </tr>\n",
       "    <tr>\n",
       "      <th>1</th>\n",
       "      <td>1000</td>\n",
       "      <td>100</td>\n",
       "      <td>1</td>\n",
       "      <td>4.8</td>\n",
       "      <td>250</td>\n",
       "      <td>70.0</td>\n",
       "      <td>8.0</td>\n",
       "      <td>12.0</td>\n",
       "      <td>3.0</td>\n",
       "      <td>15.0</td>\n",
       "      <td>...</td>\n",
       "      <td>30</td>\n",
       "      <td>10.0</td>\n",
       "      <td>4</td>\n",
       "      <td>17.0</td>\n",
       "      <td>3.0</td>\n",
       "      <td>18.0</td>\n",
       "      <td>6.0</td>\n",
       "      <td>0.0</td>\n",
       "      <td>25.0</td>\n",
       "      <td>8.0</td>\n",
       "    </tr>\n",
       "    <tr>\n",
       "      <th>2</th>\n",
       "      <td>1000</td>\n",
       "      <td>100</td>\n",
       "      <td>2</td>\n",
       "      <td>3.9</td>\n",
       "      <td>370</td>\n",
       "      <td>200.0</td>\n",
       "      <td>23.0</td>\n",
       "      <td>35.0</td>\n",
       "      <td>8.0</td>\n",
       "      <td>42.0</td>\n",
       "      <td>...</td>\n",
       "      <td>29</td>\n",
       "      <td>10.0</td>\n",
       "      <td>4</td>\n",
       "      <td>17.0</td>\n",
       "      <td>2.0</td>\n",
       "      <td>14.0</td>\n",
       "      <td>8.0</td>\n",
       "      <td>0.0</td>\n",
       "      <td>25.0</td>\n",
       "      <td>10.0</td>\n",
       "    </tr>\n",
       "    <tr>\n",
       "      <th>3</th>\n",
       "      <td>1000</td>\n",
       "      <td>100</td>\n",
       "      <td>3</td>\n",
       "      <td>5.7</td>\n",
       "      <td>450</td>\n",
       "      <td>250.0</td>\n",
       "      <td>28.0</td>\n",
       "      <td>43.0</td>\n",
       "      <td>10.0</td>\n",
       "      <td>52.0</td>\n",
       "      <td>...</td>\n",
       "      <td>30</td>\n",
       "      <td>10.0</td>\n",
       "      <td>4</td>\n",
       "      <td>17.0</td>\n",
       "      <td>2.0</td>\n",
       "      <td>21.0</td>\n",
       "      <td>15.0</td>\n",
       "      <td>0.0</td>\n",
       "      <td>30.0</td>\n",
       "      <td>15.0</td>\n",
       "    </tr>\n",
       "    <tr>\n",
       "      <th>4</th>\n",
       "      <td>1000</td>\n",
       "      <td>100</td>\n",
       "      <td>4</td>\n",
       "      <td>5.7</td>\n",
       "      <td>400</td>\n",
       "      <td>210.0</td>\n",
       "      <td>23.0</td>\n",
       "      <td>35.0</td>\n",
       "      <td>8.0</td>\n",
       "      <td>42.0</td>\n",
       "      <td>...</td>\n",
       "      <td>30</td>\n",
       "      <td>10.0</td>\n",
       "      <td>4</td>\n",
       "      <td>17.0</td>\n",
       "      <td>2.0</td>\n",
       "      <td>21.0</td>\n",
       "      <td>6.0</td>\n",
       "      <td>0.0</td>\n",
       "      <td>25.0</td>\n",
       "      <td>10.0</td>\n",
       "    </tr>\n",
       "    <tr>\n",
       "      <th>...</th>\n",
       "      <td>...</td>\n",
       "      <td>...</td>\n",
       "      <td>...</td>\n",
       "      <td>...</td>\n",
       "      <td>...</td>\n",
       "      <td>...</td>\n",
       "      <td>...</td>\n",
       "      <td>...</td>\n",
       "      <td>...</td>\n",
       "      <td>...</td>\n",
       "      <td>...</td>\n",
       "      <td>...</td>\n",
       "      <td>...</td>\n",
       "      <td>...</td>\n",
       "      <td>...</td>\n",
       "      <td>...</td>\n",
       "      <td>...</td>\n",
       "      <td>...</td>\n",
       "      <td>...</td>\n",
       "      <td>...</td>\n",
       "      <td>...</td>\n",
       "    </tr>\n",
       "    <tr>\n",
       "      <th>255</th>\n",
       "      <td>1000</td>\n",
       "      <td>108</td>\n",
       "      <td>255</td>\n",
       "      <td>10.1</td>\n",
       "      <td>510</td>\n",
       "      <td>150.0</td>\n",
       "      <td>17.0</td>\n",
       "      <td>26.0</td>\n",
       "      <td>9.0</td>\n",
       "      <td>44.0</td>\n",
       "      <td>...</td>\n",
       "      <td>80</td>\n",
       "      <td>27.0</td>\n",
       "      <td>1</td>\n",
       "      <td>4.0</td>\n",
       "      <td>64.0</td>\n",
       "      <td>12.0</td>\n",
       "      <td>15.0</td>\n",
       "      <td>0.0</td>\n",
       "      <td>40.0</td>\n",
       "      <td>8.0</td>\n",
       "    </tr>\n",
       "    <tr>\n",
       "      <th>256</th>\n",
       "      <td>1000</td>\n",
       "      <td>108</td>\n",
       "      <td>256</td>\n",
       "      <td>13.4</td>\n",
       "      <td>690</td>\n",
       "      <td>200.0</td>\n",
       "      <td>23.0</td>\n",
       "      <td>35.0</td>\n",
       "      <td>12.0</td>\n",
       "      <td>58.0</td>\n",
       "      <td>...</td>\n",
       "      <td>106</td>\n",
       "      <td>35.0</td>\n",
       "      <td>1</td>\n",
       "      <td>5.0</td>\n",
       "      <td>85.0</td>\n",
       "      <td>15.0</td>\n",
       "      <td>20.0</td>\n",
       "      <td>0.0</td>\n",
       "      <td>50.0</td>\n",
       "      <td>10.0</td>\n",
       "    </tr>\n",
       "    <tr>\n",
       "      <th>257</th>\n",
       "      <td>1000</td>\n",
       "      <td>108</td>\n",
       "      <td>257</td>\n",
       "      <td>6.7</td>\n",
       "      <td>340</td>\n",
       "      <td>100.0</td>\n",
       "      <td>11.0</td>\n",
       "      <td>17.0</td>\n",
       "      <td>6.0</td>\n",
       "      <td>29.0</td>\n",
       "      <td>...</td>\n",
       "      <td>53</td>\n",
       "      <td>18.0</td>\n",
       "      <td>1</td>\n",
       "      <td>2.0</td>\n",
       "      <td>43.0</td>\n",
       "      <td>8.0</td>\n",
       "      <td>10.0</td>\n",
       "      <td>0.0</td>\n",
       "      <td>25.0</td>\n",
       "      <td>6.0</td>\n",
       "    </tr>\n",
       "    <tr>\n",
       "      <th>258</th>\n",
       "      <td>1000</td>\n",
       "      <td>108</td>\n",
       "      <td>258</td>\n",
       "      <td>14.2</td>\n",
       "      <td>810</td>\n",
       "      <td>290.0</td>\n",
       "      <td>32.0</td>\n",
       "      <td>50.0</td>\n",
       "      <td>15.0</td>\n",
       "      <td>76.0</td>\n",
       "      <td>...</td>\n",
       "      <td>114</td>\n",
       "      <td>38.0</td>\n",
       "      <td>2</td>\n",
       "      <td>9.0</td>\n",
       "      <td>103.0</td>\n",
       "      <td>21.0</td>\n",
       "      <td>20.0</td>\n",
       "      <td>0.0</td>\n",
       "      <td>60.0</td>\n",
       "      <td>6.0</td>\n",
       "    </tr>\n",
       "    <tr>\n",
       "      <th>259</th>\n",
       "      <td>1000</td>\n",
       "      <td>108</td>\n",
       "      <td>259</td>\n",
       "      <td>7.1</td>\n",
       "      <td>410</td>\n",
       "      <td>150.0</td>\n",
       "      <td>16.0</td>\n",
       "      <td>25.0</td>\n",
       "      <td>8.0</td>\n",
       "      <td>38.0</td>\n",
       "      <td>...</td>\n",
       "      <td>57</td>\n",
       "      <td>19.0</td>\n",
       "      <td>1</td>\n",
       "      <td>5.0</td>\n",
       "      <td>51.0</td>\n",
       "      <td>10.0</td>\n",
       "      <td>10.0</td>\n",
       "      <td>0.0</td>\n",
       "      <td>30.0</td>\n",
       "      <td>4.0</td>\n",
       "    </tr>\n",
       "  </tbody>\n",
       "</table>\n",
       "<p>260 rows × 25 columns</p>\n",
       "</div>"
      ],
      "text/plain": [
       "     restaurant id  category id  item id  serving size (oz)  calories  \\\n",
       "0             1000          100        0                4.8       300   \n",
       "1             1000          100        1                4.8       250   \n",
       "2             1000          100        2                3.9       370   \n",
       "3             1000          100        3                5.7       450   \n",
       "4             1000          100        4                5.7       400   \n",
       "..             ...          ...      ...                ...       ...   \n",
       "255           1000          108      255               10.1       510   \n",
       "256           1000          108      256               13.4       690   \n",
       "257           1000          108      257                6.7       340   \n",
       "258           1000          108      258               14.2       810   \n",
       "259           1000          108      259                7.1       410   \n",
       "\n",
       "     calories from fat total fat (g)  total fat (% daily value)  \\\n",
       "0                120.0          13.0                       20.0   \n",
       "1                 70.0           8.0                       12.0   \n",
       "2                200.0          23.0                       35.0   \n",
       "3                250.0          28.0                       43.0   \n",
       "4                210.0          23.0                       35.0   \n",
       "..                 ...           ...                        ...   \n",
       "255              150.0          17.0                       26.0   \n",
       "256              200.0          23.0                       35.0   \n",
       "257              100.0          11.0                       17.0   \n",
       "258              290.0          32.0                       50.0   \n",
       "259              150.0          16.0                       25.0   \n",
       "\n",
       "     saturated fat (g)  saturated fat (% daily value)  ...  carbohydrates (g)  \\\n",
       "0                  5.0                           25.0  ...                 31   \n",
       "1                  3.0                           15.0  ...                 30   \n",
       "2                  8.0                           42.0  ...                 29   \n",
       "3                 10.0                           52.0  ...                 30   \n",
       "4                  8.0                           42.0  ...                 30   \n",
       "..                 ...                            ...  ...                ...   \n",
       "255                9.0                           44.0  ...                 80   \n",
       "256               12.0                           58.0  ...                106   \n",
       "257                6.0                           29.0  ...                 53   \n",
       "258               15.0                           76.0  ...                114   \n",
       "259                8.0                           38.0  ...                 57   \n",
       "\n",
       "     carbohydrates (% daily value)  dietary fiber (g)  \\\n",
       "0                             10.0                  4   \n",
       "1                             10.0                  4   \n",
       "2                             10.0                  4   \n",
       "3                             10.0                  4   \n",
       "4                             10.0                  4   \n",
       "..                             ...                ...   \n",
       "255                           27.0                  1   \n",
       "256                           35.0                  1   \n",
       "257                           18.0                  1   \n",
       "258                           38.0                  2   \n",
       "259                           19.0                  1   \n",
       "\n",
       "     dietary fiber (% daily value)  sugars (g)  protein (g)  \\\n",
       "0                             17.0         3.0         17.0   \n",
       "1                             17.0         3.0         18.0   \n",
       "2                             17.0         2.0         14.0   \n",
       "3                             17.0         2.0         21.0   \n",
       "4                             17.0         2.0         21.0   \n",
       "..                             ...         ...          ...   \n",
       "255                            4.0        64.0         12.0   \n",
       "256                            5.0        85.0         15.0   \n",
       "257                            2.0        43.0          8.0   \n",
       "258                            9.0       103.0         21.0   \n",
       "259                            5.0        51.0         10.0   \n",
       "\n",
       "     vitamin a (% daily value)  vitamin c (% daily value)  \\\n",
       "0                         10.0                        0.0   \n",
       "1                          6.0                        0.0   \n",
       "2                          8.0                        0.0   \n",
       "3                         15.0                        0.0   \n",
       "4                          6.0                        0.0   \n",
       "..                         ...                        ...   \n",
       "255                       15.0                        0.0   \n",
       "256                       20.0                        0.0   \n",
       "257                       10.0                        0.0   \n",
       "258                       20.0                        0.0   \n",
       "259                       10.0                        0.0   \n",
       "\n",
       "     calcium (% daily value)  iron (% daily value)  \n",
       "0                       25.0                  15.0  \n",
       "1                       25.0                   8.0  \n",
       "2                       25.0                  10.0  \n",
       "3                       30.0                  15.0  \n",
       "4                       25.0                  10.0  \n",
       "..                       ...                   ...  \n",
       "255                     40.0                   8.0  \n",
       "256                     50.0                  10.0  \n",
       "257                     25.0                   6.0  \n",
       "258                     60.0                   6.0  \n",
       "259                     30.0                   4.0  \n",
       "\n",
       "[260 rows x 25 columns]"
      ]
     },
     "execution_count": 8,
     "metadata": {},
     "output_type": "execute_result"
    }
   ],
   "source": [
    "df = df.dropna()\n",
    "df"
   ]
  },
  {
   "cell_type": "markdown",
   "id": "716ee298",
   "metadata": {},
   "source": [
    "2. Use summary statistics to get a general understanding of the food from restaurant id 10000.  "
   ]
  },
  {
   "cell_type": "code",
   "execution_count": 10,
   "id": "3a413b7b",
   "metadata": {},
   "outputs": [
    {
     "data": {
      "text/html": [
       "<div>\n",
       "<style scoped>\n",
       "    .dataframe tbody tr th:only-of-type {\n",
       "        vertical-align: middle;\n",
       "    }\n",
       "\n",
       "    .dataframe tbody tr th {\n",
       "        vertical-align: top;\n",
       "    }\n",
       "\n",
       "    .dataframe thead th {\n",
       "        text-align: right;\n",
       "    }\n",
       "</style>\n",
       "<table border=\"1\" class=\"dataframe\">\n",
       "  <thead>\n",
       "    <tr style=\"text-align: right;\">\n",
       "      <th></th>\n",
       "      <th>restaurant id</th>\n",
       "      <th>category id</th>\n",
       "      <th>item id</th>\n",
       "      <th>serving size (oz)</th>\n",
       "      <th>calories</th>\n",
       "      <th>calories from fat</th>\n",
       "      <th>total fat (% daily value)</th>\n",
       "      <th>saturated fat (g)</th>\n",
       "      <th>saturated fat (% daily value)</th>\n",
       "      <th>trans fat (g)</th>\n",
       "      <th>...</th>\n",
       "      <th>carbohydrates (g)</th>\n",
       "      <th>carbohydrates (% daily value)</th>\n",
       "      <th>dietary fiber (g)</th>\n",
       "      <th>dietary fiber (% daily value)</th>\n",
       "      <th>sugars (g)</th>\n",
       "      <th>protein (g)</th>\n",
       "      <th>vitamin a (% daily value)</th>\n",
       "      <th>vitamin c (% daily value)</th>\n",
       "      <th>calcium (% daily value)</th>\n",
       "      <th>iron (% daily value)</th>\n",
       "    </tr>\n",
       "  </thead>\n",
       "  <tbody>\n",
       "    <tr>\n",
       "      <th>count</th>\n",
       "      <td>260.0</td>\n",
       "      <td>260.000000</td>\n",
       "      <td>260.000000</td>\n",
       "      <td>260.000000</td>\n",
       "      <td>260.000000</td>\n",
       "      <td>260.000000</td>\n",
       "      <td>260.000000</td>\n",
       "      <td>260.000000</td>\n",
       "      <td>260.000000</td>\n",
       "      <td>260.000000</td>\n",
       "      <td>...</td>\n",
       "      <td>260.000000</td>\n",
       "      <td>260.000000</td>\n",
       "      <td>260.000000</td>\n",
       "      <td>260.000000</td>\n",
       "      <td>260.000000</td>\n",
       "      <td>260.000000</td>\n",
       "      <td>260.000000</td>\n",
       "      <td>260.000000</td>\n",
       "      <td>260.000000</td>\n",
       "      <td>260.000000</td>\n",
       "    </tr>\n",
       "    <tr>\n",
       "      <th>mean</th>\n",
       "      <td>1000.0</td>\n",
       "      <td>104.711538</td>\n",
       "      <td>129.500000</td>\n",
       "      <td>12.858032</td>\n",
       "      <td>368.269231</td>\n",
       "      <td>127.096154</td>\n",
       "      <td>21.815385</td>\n",
       "      <td>6.007692</td>\n",
       "      <td>29.965385</td>\n",
       "      <td>0.203846</td>\n",
       "      <td>...</td>\n",
       "      <td>47.346154</td>\n",
       "      <td>15.780769</td>\n",
       "      <td>1.630769</td>\n",
       "      <td>6.530769</td>\n",
       "      <td>29.423077</td>\n",
       "      <td>13.338462</td>\n",
       "      <td>13.426923</td>\n",
       "      <td>8.534615</td>\n",
       "      <td>20.973077</td>\n",
       "      <td>7.734615</td>\n",
       "    </tr>\n",
       "    <tr>\n",
       "      <th>std</th>\n",
       "      <td>0.0</td>\n",
       "      <td>2.919357</td>\n",
       "      <td>75.199734</td>\n",
       "      <td>6.988335</td>\n",
       "      <td>240.269886</td>\n",
       "      <td>127.875914</td>\n",
       "      <td>21.885199</td>\n",
       "      <td>5.321873</td>\n",
       "      <td>26.639209</td>\n",
       "      <td>0.429133</td>\n",
       "      <td>...</td>\n",
       "      <td>28.252232</td>\n",
       "      <td>9.419544</td>\n",
       "      <td>1.567717</td>\n",
       "      <td>6.307057</td>\n",
       "      <td>28.679797</td>\n",
       "      <td>11.426146</td>\n",
       "      <td>24.366381</td>\n",
       "      <td>26.345542</td>\n",
       "      <td>17.019953</td>\n",
       "      <td>8.723263</td>\n",
       "    </tr>\n",
       "    <tr>\n",
       "      <th>min</th>\n",
       "      <td>1000.0</td>\n",
       "      <td>100.000000</td>\n",
       "      <td>0.000000</td>\n",
       "      <td>1.000000</td>\n",
       "      <td>0.000000</td>\n",
       "      <td>0.000000</td>\n",
       "      <td>0.000000</td>\n",
       "      <td>0.000000</td>\n",
       "      <td>0.000000</td>\n",
       "      <td>0.000000</td>\n",
       "      <td>...</td>\n",
       "      <td>0.000000</td>\n",
       "      <td>0.000000</td>\n",
       "      <td>0.000000</td>\n",
       "      <td>0.000000</td>\n",
       "      <td>0.000000</td>\n",
       "      <td>0.000000</td>\n",
       "      <td>0.000000</td>\n",
       "      <td>0.000000</td>\n",
       "      <td>0.000000</td>\n",
       "      <td>0.000000</td>\n",
       "    </tr>\n",
       "    <tr>\n",
       "      <th>25%</th>\n",
       "      <td>1000.0</td>\n",
       "      <td>102.000000</td>\n",
       "      <td>64.750000</td>\n",
       "      <td>6.975000</td>\n",
       "      <td>210.000000</td>\n",
       "      <td>20.000000</td>\n",
       "      <td>3.750000</td>\n",
       "      <td>1.000000</td>\n",
       "      <td>4.750000</td>\n",
       "      <td>0.000000</td>\n",
       "      <td>...</td>\n",
       "      <td>30.000000</td>\n",
       "      <td>10.000000</td>\n",
       "      <td>0.000000</td>\n",
       "      <td>0.000000</td>\n",
       "      <td>5.750000</td>\n",
       "      <td>4.000000</td>\n",
       "      <td>2.000000</td>\n",
       "      <td>0.000000</td>\n",
       "      <td>6.000000</td>\n",
       "      <td>0.000000</td>\n",
       "    </tr>\n",
       "    <tr>\n",
       "      <th>50%</th>\n",
       "      <td>1000.0</td>\n",
       "      <td>106.000000</td>\n",
       "      <td>129.500000</td>\n",
       "      <td>12.000000</td>\n",
       "      <td>340.000000</td>\n",
       "      <td>100.000000</td>\n",
       "      <td>17.000000</td>\n",
       "      <td>5.000000</td>\n",
       "      <td>24.000000</td>\n",
       "      <td>0.000000</td>\n",
       "      <td>...</td>\n",
       "      <td>44.000000</td>\n",
       "      <td>15.000000</td>\n",
       "      <td>1.000000</td>\n",
       "      <td>5.000000</td>\n",
       "      <td>17.500000</td>\n",
       "      <td>12.000000</td>\n",
       "      <td>8.000000</td>\n",
       "      <td>0.000000</td>\n",
       "      <td>20.000000</td>\n",
       "      <td>4.000000</td>\n",
       "    </tr>\n",
       "    <tr>\n",
       "      <th>75%</th>\n",
       "      <td>1000.0</td>\n",
       "      <td>107.000000</td>\n",
       "      <td>194.250000</td>\n",
       "      <td>16.000000</td>\n",
       "      <td>500.000000</td>\n",
       "      <td>200.000000</td>\n",
       "      <td>35.000000</td>\n",
       "      <td>10.000000</td>\n",
       "      <td>48.000000</td>\n",
       "      <td>0.000000</td>\n",
       "      <td>...</td>\n",
       "      <td>60.000000</td>\n",
       "      <td>20.000000</td>\n",
       "      <td>3.000000</td>\n",
       "      <td>10.000000</td>\n",
       "      <td>48.000000</td>\n",
       "      <td>19.000000</td>\n",
       "      <td>15.000000</td>\n",
       "      <td>4.000000</td>\n",
       "      <td>30.000000</td>\n",
       "      <td>15.000000</td>\n",
       "    </tr>\n",
       "    <tr>\n",
       "      <th>max</th>\n",
       "      <td>1000.0</td>\n",
       "      <td>108.000000</td>\n",
       "      <td>259.000000</td>\n",
       "      <td>32.000000</td>\n",
       "      <td>1880.000000</td>\n",
       "      <td>1060.000000</td>\n",
       "      <td>182.000000</td>\n",
       "      <td>20.000000</td>\n",
       "      <td>102.000000</td>\n",
       "      <td>2.500000</td>\n",
       "      <td>...</td>\n",
       "      <td>141.000000</td>\n",
       "      <td>47.000000</td>\n",
       "      <td>7.000000</td>\n",
       "      <td>28.000000</td>\n",
       "      <td>128.000000</td>\n",
       "      <td>87.000000</td>\n",
       "      <td>170.000000</td>\n",
       "      <td>240.000000</td>\n",
       "      <td>70.000000</td>\n",
       "      <td>40.000000</td>\n",
       "    </tr>\n",
       "  </tbody>\n",
       "</table>\n",
       "<p>8 rows × 24 columns</p>\n",
       "</div>"
      ],
      "text/plain": [
       "       restaurant id  category id     item id  serving size (oz)     calories  \\\n",
       "count          260.0   260.000000  260.000000         260.000000   260.000000   \n",
       "mean          1000.0   104.711538  129.500000          12.858032   368.269231   \n",
       "std              0.0     2.919357   75.199734           6.988335   240.269886   \n",
       "min           1000.0   100.000000    0.000000           1.000000     0.000000   \n",
       "25%           1000.0   102.000000   64.750000           6.975000   210.000000   \n",
       "50%           1000.0   106.000000  129.500000          12.000000   340.000000   \n",
       "75%           1000.0   107.000000  194.250000          16.000000   500.000000   \n",
       "max           1000.0   108.000000  259.000000          32.000000  1880.000000   \n",
       "\n",
       "       calories from fat  total fat (% daily value)  saturated fat (g)  \\\n",
       "count         260.000000                 260.000000         260.000000   \n",
       "mean          127.096154                  21.815385           6.007692   \n",
       "std           127.875914                  21.885199           5.321873   \n",
       "min             0.000000                   0.000000           0.000000   \n",
       "25%            20.000000                   3.750000           1.000000   \n",
       "50%           100.000000                  17.000000           5.000000   \n",
       "75%           200.000000                  35.000000          10.000000   \n",
       "max          1060.000000                 182.000000          20.000000   \n",
       "\n",
       "       saturated fat (% daily value)  trans fat (g)  ...  carbohydrates (g)  \\\n",
       "count                     260.000000     260.000000  ...         260.000000   \n",
       "mean                       29.965385       0.203846  ...          47.346154   \n",
       "std                        26.639209       0.429133  ...          28.252232   \n",
       "min                         0.000000       0.000000  ...           0.000000   \n",
       "25%                         4.750000       0.000000  ...          30.000000   \n",
       "50%                        24.000000       0.000000  ...          44.000000   \n",
       "75%                        48.000000       0.000000  ...          60.000000   \n",
       "max                       102.000000       2.500000  ...         141.000000   \n",
       "\n",
       "       carbohydrates (% daily value)  dietary fiber (g)  \\\n",
       "count                     260.000000         260.000000   \n",
       "mean                       15.780769           1.630769   \n",
       "std                         9.419544           1.567717   \n",
       "min                         0.000000           0.000000   \n",
       "25%                        10.000000           0.000000   \n",
       "50%                        15.000000           1.000000   \n",
       "75%                        20.000000           3.000000   \n",
       "max                        47.000000           7.000000   \n",
       "\n",
       "       dietary fiber (% daily value)  sugars (g)  protein (g)  \\\n",
       "count                     260.000000  260.000000   260.000000   \n",
       "mean                        6.530769   29.423077    13.338462   \n",
       "std                         6.307057   28.679797    11.426146   \n",
       "min                         0.000000    0.000000     0.000000   \n",
       "25%                         0.000000    5.750000     4.000000   \n",
       "50%                         5.000000   17.500000    12.000000   \n",
       "75%                        10.000000   48.000000    19.000000   \n",
       "max                        28.000000  128.000000    87.000000   \n",
       "\n",
       "       vitamin a (% daily value)  vitamin c (% daily value)  \\\n",
       "count                 260.000000                 260.000000   \n",
       "mean                   13.426923                   8.534615   \n",
       "std                    24.366381                  26.345542   \n",
       "min                     0.000000                   0.000000   \n",
       "25%                     2.000000                   0.000000   \n",
       "50%                     8.000000                   0.000000   \n",
       "75%                    15.000000                   4.000000   \n",
       "max                   170.000000                 240.000000   \n",
       "\n",
       "       calcium (% daily value)  iron (% daily value)  \n",
       "count               260.000000            260.000000  \n",
       "mean                 20.973077              7.734615  \n",
       "std                  17.019953              8.723263  \n",
       "min                   0.000000              0.000000  \n",
       "25%                   6.000000              0.000000  \n",
       "50%                  20.000000              4.000000  \n",
       "75%                  30.000000             15.000000  \n",
       "max                  70.000000             40.000000  \n",
       "\n",
       "[8 rows x 24 columns]"
      ]
     },
     "execution_count": 10,
     "metadata": {},
     "output_type": "execute_result"
    }
   ],
   "source": [
    "df.describe()"
   ]
  },
  {
   "cell_type": "markdown",
   "id": "16663b01",
   "metadata": {},
   "source": [
    "3. Because the data is continuous, we can use histograms and kernel density diagrams to visualize the data. "
   ]
  },
  {
   "cell_type": "code",
   "execution_count": 29,
   "id": "990fb7a9",
   "metadata": {},
   "outputs": [
    {
     "data": {
      "image/png": "[encoded data removed]",
      "text/plain": [
       "<Figure size 640x480 with 1 Axes>"
      ]
     },
     "metadata": {},
     "output_type": "display_data"
    }
   ],
   "source": [
    "import seaborn as sns\n",
    "import numpy as np\n",
    "import matplotlib.pyplot as plt\n",
    "\n",
    "# Plot KDE and histogram using Seaborn\n",
    "sns.histplot(df, x ='calories', kde=True, bins=30)\n",
    "plt.title('Calories Histogram and KDE')\n",
    "# Display the plot\n",
    "plt.show()"
   ]
  },
  {
   "cell_type": "markdown",
   "id": "9cff0f28",
   "metadata": {},
   "source": [
    "We can also graph its box plot to visualize the data summary as well as to show outliers. "
   ]
  },
  {
   "cell_type": "code",
   "execution_count": 33,
   "id": "09542444",
   "metadata": {},
   "outputs": [
    {
     "data": {
      "image/png": "[encoded data removed]"
     },
     "metadata": {},
     "output_type": "display_data"
    }
   ],
   "source": [
    "import plotly.express as px\n",
    "fig = px.box(df, x= 'calories', title = 'Calories box plot')\n",
    "fig.show(renderer = 'png')"
   ]
  },
  {
   "cell_type": "markdown",
   "id": "4155265f",
   "metadata": {},
   "source": [
    "Note that we can do this with any of the given variables and it would be helpful to do so. "
   ]
  },
  {
   "cell_type": "markdown",
   "id": "679a3d0e",
   "metadata": {},
   "source": [
    "***ChatGPT Chat Summary***\n",
    "\n",
    "Here's a summary of our chat:\n",
    "\n",
    "1. **Kernel Density Estimation (KDE) using Plotly Express**:\n",
    "   - Provided code for creating KDE plots in 1D and 2D using Plotly Express.\n",
    "   - Explained how to overlay a KDE curve on a histogram using `scipy.stats.gaussian_kde` and Plotly.\n",
    "\n",
    "2. **KDE Implementation**:\n",
    "   - Offered a short, simple KDE implementation using NumPy and Matplotlib.\n",
    "   - Provided a brief example using Seaborn to plot a histogram with a KDE overlay, including instructions for adding a title to the plot.\n",
    "\n",
    "If you need more details or specific topics, let me know!\n",
    "\n",
    "link: https://chatgpt.com/share/66f1b73e-9af8-800d-9901-9d3b772b3127"
   ]
  },
  {
   "cell_type": "markdown",
   "id": "117e2202",
   "metadata": {},
   "source": [
    "***Question 7***\n",
    "---\n"
   ]
  },
  {
   "cell_type": "code",
   "execution_count": 41,
   "id": "46bb633e",
   "metadata": {},
   "outputs": [
    {
     "data": {
      "image/png": "[encoded data removed]"
     },
     "metadata": {},
     "output_type": "display_data"
    }
   ],
   "source": [
    "import plotly.express as px\n",
    "import plotly.io as pio\n",
    "\n",
    "# Set the renderer to display plots in Jupyter Notebook\n",
    "pio.renderers.default = 'notebook'\n",
    "\n",
    "# Load the Gapminder dataset\n",
    "df = px.data.gapminder()\n",
    "\n",
    "# Create the scatter plot\n",
    "fig = px.scatter(df, \n",
    "                 x=\"gdpPercap\", \n",
    "                 y=\"lifeExp\", \n",
    "                 animation_frame=\"year\", \n",
    "                 animation_group=\"country\",\n",
    "                 size=\"pop\", \n",
    "                 color=\"continent\", \n",
    "                 hover_name=\"country\",\n",
    "                 log_x=True, \n",
    "                 size_max=55, \n",
    "                 range_x=[100, 100000], \n",
    "                 range_y=[25, 90])\n",
    "\n",
    "# Show the figure\n",
    "fig.show()\n"
   ]
  },
  {
   "cell_type": "markdown",
   "id": "98db32a7",
   "metadata": {},
   "source": [
    "***ChatGPT chat summary***"
   ]
  },
  {
   "cell_type": "markdown",
   "id": "97b94aaf",
   "metadata": {},
   "source": [
    "You asked about a code snippet using Plotly Express to create an animated scatter plot from the Gapminder dataset. I explained its components, including axes, animation, sizing, and coloring. You then inquired why it wasn't rendering in JupyterHub, and I suggested checking the Plotly installation, enabling notebook mode, and using the `show` method. Finally, I provided a complete code snippet to ensure proper rendering in JupyterHub.\n",
    "\n",
    "link: https://chatgpt.com/share/66f1ba37-be6c-800d-8962-771ba09aa4bb"
   ]
  },
  {
   "cell_type": "markdown",
   "id": "8800bafc",
   "metadata": {},
   "source": [
    "***Question 8***\n",
    "---\n"
   ]
  },
  {
   "cell_type": "code",
   "execution_count": 43,
   "id": "3eca6e14",
   "metadata": {},
   "outputs": [
    {
     "ename": "ValueError",
     "evalue": "Value of 'y' is not the name of a column in 'data_frame'. Expected one of ['country', 'continent', 'year', 'lifeExp', 'pop', 'gdpPercap', 'iso_alpha', 'iso_num'] but received: rank",
     "output_type": "error",
     "traceback": [
      "\u001b[0;31m---------------------------------------------------------------------------\u001b[0m",
      "\u001b[0;31mValueError\u001b[0m                                Traceback (most recent call last)",
      "Cell \u001b[0;32mIn[43], line 5\u001b[0m\n\u001b[1;32m      2\u001b[0m df \u001b[38;5;241m=\u001b[39m px\u001b[38;5;241m.\u001b[39mdata\u001b[38;5;241m.\u001b[39mgapminder()\n\u001b[1;32m      4\u001b[0m \u001b[38;5;66;03m# Create the scatter plot\u001b[39;00m\n\u001b[0;32m----> 5\u001b[0m fig \u001b[38;5;241m=\u001b[39m \u001b[43mpx\u001b[49m\u001b[38;5;241;43m.\u001b[39;49m\u001b[43mscatter\u001b[49m\u001b[43m(\u001b[49m\u001b[43mdf\u001b[49m\u001b[43m,\u001b[49m\u001b[43m \u001b[49m\n\u001b[1;32m      6\u001b[0m \u001b[43m                 \u001b[49m\u001b[43mx\u001b[49m\u001b[38;5;241;43m=\u001b[39;49m\u001b[38;5;124;43m\"\u001b[39;49m\u001b[38;5;124;43mcountry\u001b[39;49m\u001b[38;5;124;43m\"\u001b[39;49m\u001b[43m,\u001b[49m\u001b[43m \u001b[49m\n\u001b[1;32m      7\u001b[0m \u001b[43m                 \u001b[49m\u001b[43my\u001b[49m\u001b[38;5;241;43m=\u001b[39;49m\u001b[38;5;124;43m\"\u001b[39;49m\u001b[38;5;124;43mrank\u001b[39;49m\u001b[38;5;124;43m\"\u001b[39;49m\u001b[43m,\u001b[49m\u001b[43m \u001b[49m\n\u001b[1;32m      8\u001b[0m \u001b[43m                 \u001b[49m\u001b[43manimation_frame\u001b[49m\u001b[38;5;241;43m=\u001b[39;49m\u001b[38;5;124;43m\"\u001b[39;49m\u001b[38;5;124;43myear\u001b[39;49m\u001b[38;5;124;43m\"\u001b[39;49m\u001b[43m,\u001b[49m\u001b[43m \u001b[49m\n\u001b[1;32m      9\u001b[0m \u001b[43m                 \u001b[49m\u001b[43manimation_group\u001b[49m\u001b[38;5;241;43m=\u001b[39;49m\u001b[38;5;124;43m\"\u001b[39;49m\u001b[38;5;124;43mcountry\u001b[39;49m\u001b[38;5;124;43m\"\u001b[39;49m\u001b[43m,\u001b[49m\n\u001b[1;32m     10\u001b[0m \u001b[43m                 \u001b[49m\u001b[43msize\u001b[49m\u001b[38;5;241;43m=\u001b[39;49m\u001b[38;5;124;43m\"\u001b[39;49m\u001b[38;5;124;43mpercent\u001b[39;49m\u001b[38;5;124;43m\"\u001b[39;49m\u001b[43m,\u001b[49m\u001b[43m \u001b[49m\n\u001b[1;32m     11\u001b[0m \u001b[43m                 \u001b[49m\u001b[43mcolor\u001b[49m\u001b[38;5;241;43m=\u001b[39;49m\u001b[38;5;124;43m\"\u001b[39;49m\u001b[38;5;124;43msex\u001b[39;49m\u001b[38;5;124;43m\"\u001b[39;49m\u001b[43m,\u001b[49m\u001b[43m \u001b[49m\n\u001b[1;32m     12\u001b[0m \u001b[43m                 \u001b[49m\u001b[43mhover_name\u001b[49m\u001b[38;5;241;43m=\u001b[39;49m\u001b[38;5;124;43m\"\u001b[39;49m\u001b[38;5;124;43mname\u001b[39;49m\u001b[38;5;124;43m\"\u001b[39;49m\u001b[43m,\u001b[49m\n\u001b[1;32m     13\u001b[0m \u001b[43m                 \u001b[49m\u001b[43mlog_x\u001b[49m\u001b[38;5;241;43m=\u001b[39;49m\u001b[38;5;28;43;01mTrue\u001b[39;49;00m\u001b[43m,\u001b[49m\u001b[43m \u001b[49m\n\u001b[1;32m     14\u001b[0m \u001b[43m                 \u001b[49m\u001b[43msize_max\u001b[49m\u001b[38;5;241;43m=\u001b[39;49m\u001b[38;5;241;43m50\u001b[39;49m\u001b[43m,\u001b[49m\u001b[43m \u001b[49m\n\u001b[1;32m     15\u001b[0m \u001b[43m                 \u001b[49m\u001b[43mrange_x\u001b[49m\u001b[38;5;241;43m=\u001b[39;49m\u001b[43m[\u001b[49m\u001b[38;5;241;43m-\u001b[39;49m\u001b[38;5;241;43m0.005\u001b[39;49m\u001b[43m,\u001b[49m\u001b[43m \u001b[49m\u001b[38;5;241;43m0.005\u001b[39;49m\u001b[43m]\u001b[49m\u001b[43m,\u001b[49m\u001b[43m \u001b[49m\n\u001b[1;32m     16\u001b[0m \u001b[43m                 \u001b[49m\u001b[43mrange_y\u001b[49m\u001b[38;5;241;43m=\u001b[39;49m\u001b[43m[\u001b[49m\u001b[38;5;241;43m25\u001b[39;49m\u001b[43m,\u001b[49m\u001b[43m \u001b[49m\u001b[38;5;241;43m90\u001b[39;49m\u001b[43m]\u001b[49m\u001b[43m)\u001b[49m\n\u001b[1;32m     18\u001b[0m \u001b[38;5;66;03m# Show the figure\u001b[39;00m\n\u001b[1;32m     19\u001b[0m fig\u001b[38;5;241m.\u001b[39mshow()\n",
      "File \u001b[0;32m/opt/conda/lib/python3.11/site-packages/plotly/express/_chart_types.py:66\u001b[0m, in \u001b[0;36mscatter\u001b[0;34m(data_frame, x, y, color, symbol, size, hover_name, hover_data, custom_data, text, facet_row, facet_col, facet_col_wrap, facet_row_spacing, facet_col_spacing, error_x, error_x_minus, error_y, error_y_minus, animation_frame, animation_group, category_orders, labels, orientation, color_discrete_sequence, color_discrete_map, color_continuous_scale, range_color, color_continuous_midpoint, symbol_sequence, symbol_map, opacity, size_max, marginal_x, marginal_y, trendline, trendline_options, trendline_color_override, trendline_scope, log_x, log_y, range_x, range_y, render_mode, title, template, width, height)\u001b[0m\n\u001b[1;32m     12\u001b[0m \u001b[38;5;28;01mdef\u001b[39;00m \u001b[38;5;21mscatter\u001b[39m(\n\u001b[1;32m     13\u001b[0m     data_frame\u001b[38;5;241m=\u001b[39m\u001b[38;5;28;01mNone\u001b[39;00m,\n\u001b[1;32m     14\u001b[0m     x\u001b[38;5;241m=\u001b[39m\u001b[38;5;28;01mNone\u001b[39;00m,\n\u001b[0;32m   (...)\u001b[0m\n\u001b[1;32m     60\u001b[0m     height\u001b[38;5;241m=\u001b[39m\u001b[38;5;28;01mNone\u001b[39;00m,\n\u001b[1;32m     61\u001b[0m ) \u001b[38;5;241m-\u001b[39m\u001b[38;5;241m>\u001b[39m go\u001b[38;5;241m.\u001b[39mFigure:\n\u001b[1;32m     62\u001b[0m \u001b[38;5;250m    \u001b[39m\u001b[38;5;124;03m\"\"\"\u001b[39;00m\n\u001b[1;32m     63\u001b[0m \u001b[38;5;124;03m    In a scatter plot, each row of `data_frame` is represented by a symbol\u001b[39;00m\n\u001b[1;32m     64\u001b[0m \u001b[38;5;124;03m    mark in 2D space.\u001b[39;00m\n\u001b[1;32m     65\u001b[0m \u001b[38;5;124;03m    \"\"\"\u001b[39;00m\n\u001b[0;32m---> 66\u001b[0m     \u001b[38;5;28;01mreturn\u001b[39;00m \u001b[43mmake_figure\u001b[49m\u001b[43m(\u001b[49m\u001b[43margs\u001b[49m\u001b[38;5;241;43m=\u001b[39;49m\u001b[38;5;28;43mlocals\u001b[39;49m\u001b[43m(\u001b[49m\u001b[43m)\u001b[49m\u001b[43m,\u001b[49m\u001b[43m \u001b[49m\u001b[43mconstructor\u001b[49m\u001b[38;5;241;43m=\u001b[39;49m\u001b[43mgo\u001b[49m\u001b[38;5;241;43m.\u001b[39;49m\u001b[43mScatter\u001b[49m\u001b[43m)\u001b[49m\n",
      "File \u001b[0;32m/opt/conda/lib/python3.11/site-packages/plotly/express/_core.py:2090\u001b[0m, in \u001b[0;36mmake_figure\u001b[0;34m(args, constructor, trace_patch, layout_patch)\u001b[0m\n\u001b[1;32m   2087\u001b[0m layout_patch \u001b[38;5;241m=\u001b[39m layout_patch \u001b[38;5;129;01mor\u001b[39;00m {}\n\u001b[1;32m   2088\u001b[0m apply_default_cascade(args)\n\u001b[0;32m-> 2090\u001b[0m args \u001b[38;5;241m=\u001b[39m \u001b[43mbuild_dataframe\u001b[49m\u001b[43m(\u001b[49m\u001b[43margs\u001b[49m\u001b[43m,\u001b[49m\u001b[43m \u001b[49m\u001b[43mconstructor\u001b[49m\u001b[43m)\u001b[49m\n\u001b[1;32m   2091\u001b[0m \u001b[38;5;28;01mif\u001b[39;00m constructor \u001b[38;5;129;01min\u001b[39;00m [go\u001b[38;5;241m.\u001b[39mTreemap, go\u001b[38;5;241m.\u001b[39mSunburst, go\u001b[38;5;241m.\u001b[39mIcicle] \u001b[38;5;129;01mand\u001b[39;00m args[\u001b[38;5;124m\"\u001b[39m\u001b[38;5;124mpath\u001b[39m\u001b[38;5;124m\"\u001b[39m] \u001b[38;5;129;01mis\u001b[39;00m \u001b[38;5;129;01mnot\u001b[39;00m \u001b[38;5;28;01mNone\u001b[39;00m:\n\u001b[1;32m   2092\u001b[0m     args \u001b[38;5;241m=\u001b[39m process_dataframe_hierarchy(args)\n",
      "File \u001b[0;32m/opt/conda/lib/python3.11/site-packages/plotly/express/_core.py:1492\u001b[0m, in \u001b[0;36mbuild_dataframe\u001b[0;34m(args, constructor)\u001b[0m\n\u001b[1;32m   1489\u001b[0m     args[\u001b[38;5;124m\"\u001b[39m\u001b[38;5;124mcolor\u001b[39m\u001b[38;5;124m\"\u001b[39m] \u001b[38;5;241m=\u001b[39m \u001b[38;5;28;01mNone\u001b[39;00m\n\u001b[1;32m   1490\u001b[0m \u001b[38;5;66;03m# now that things have been prepped, we do the systematic rewriting of `args`\u001b[39;00m\n\u001b[0;32m-> 1492\u001b[0m df_output, wide_id_vars \u001b[38;5;241m=\u001b[39m \u001b[43mprocess_args_into_dataframe\u001b[49m\u001b[43m(\u001b[49m\n\u001b[1;32m   1493\u001b[0m \u001b[43m    \u001b[49m\u001b[43margs\u001b[49m\u001b[43m,\u001b[49m\u001b[43m \u001b[49m\u001b[43mwide_mode\u001b[49m\u001b[43m,\u001b[49m\u001b[43m \u001b[49m\u001b[43mvar_name\u001b[49m\u001b[43m,\u001b[49m\u001b[43m \u001b[49m\u001b[43mvalue_name\u001b[49m\n\u001b[1;32m   1494\u001b[0m \u001b[43m\u001b[49m\u001b[43m)\u001b[49m\n\u001b[1;32m   1496\u001b[0m \u001b[38;5;66;03m# now that `df_output` exists and `args` contains only references, we complete\u001b[39;00m\n\u001b[1;32m   1497\u001b[0m \u001b[38;5;66;03m# the special-case and wide-mode handling by further rewriting args and/or mutating\u001b[39;00m\n\u001b[1;32m   1498\u001b[0m \u001b[38;5;66;03m# df_output\u001b[39;00m\n\u001b[1;32m   1500\u001b[0m count_name \u001b[38;5;241m=\u001b[39m _escape_col_name(df_output, \u001b[38;5;124m\"\u001b[39m\u001b[38;5;124mcount\u001b[39m\u001b[38;5;124m\"\u001b[39m, [var_name, value_name])\n",
      "File \u001b[0;32m/opt/conda/lib/python3.11/site-packages/plotly/express/_core.py:1213\u001b[0m, in \u001b[0;36mprocess_args_into_dataframe\u001b[0;34m(args, wide_mode, var_name, value_name)\u001b[0m\n\u001b[1;32m   1211\u001b[0m         \u001b[38;5;28;01mif\u001b[39;00m argument \u001b[38;5;241m==\u001b[39m \u001b[38;5;124m\"\u001b[39m\u001b[38;5;124mindex\u001b[39m\u001b[38;5;124m\"\u001b[39m:\n\u001b[1;32m   1212\u001b[0m             err_msg \u001b[38;5;241m+\u001b[39m\u001b[38;5;241m=\u001b[39m \u001b[38;5;124m\"\u001b[39m\u001b[38;5;130;01m\\n\u001b[39;00m\u001b[38;5;124m To use the index, pass it in directly as `df.index`.\u001b[39m\u001b[38;5;124m\"\u001b[39m\n\u001b[0;32m-> 1213\u001b[0m         \u001b[38;5;28;01mraise\u001b[39;00m \u001b[38;5;167;01mValueError\u001b[39;00m(err_msg)\n\u001b[1;32m   1214\u001b[0m \u001b[38;5;28;01melif\u001b[39;00m length \u001b[38;5;129;01mand\u001b[39;00m \u001b[38;5;28mlen\u001b[39m(df_input[argument]) \u001b[38;5;241m!=\u001b[39m length:\n\u001b[1;32m   1215\u001b[0m     \u001b[38;5;28;01mraise\u001b[39;00m \u001b[38;5;167;01mValueError\u001b[39;00m(\n\u001b[1;32m   1216\u001b[0m         \u001b[38;5;124m\"\u001b[39m\u001b[38;5;124mAll arguments should have the same length. \u001b[39m\u001b[38;5;124m\"\u001b[39m\n\u001b[1;32m   1217\u001b[0m         \u001b[38;5;124m\"\u001b[39m\u001b[38;5;124mThe length of column argument `df[\u001b[39m\u001b[38;5;132;01m%s\u001b[39;00m\u001b[38;5;124m]` is \u001b[39m\u001b[38;5;132;01m%d\u001b[39;00m\u001b[38;5;124m, whereas the \u001b[39m\u001b[38;5;124m\"\u001b[39m\n\u001b[0;32m   (...)\u001b[0m\n\u001b[1;32m   1224\u001b[0m         )\n\u001b[1;32m   1225\u001b[0m     )\n",
      "\u001b[0;31mValueError\u001b[0m: Value of 'y' is not the name of a column in 'data_frame'. Expected one of ['country', 'continent', 'year', 'lifeExp', 'pop', 'gdpPercap', 'iso_alpha', 'iso_num'] but received: rank"
     ]
    }
   ],
   "source": [
    "\n",
    "# Load the Gapminder dataset\n",
    "df = px.data.gapminder()\n",
    "\n",
    "# Create the scatter plot\n",
    "fig = px.scatter(df, \n",
    "                 x=\"percent change\", \n",
    "                 y=\"rank\", \n",
    "                 animation_frame=\"year\", \n",
    "                 animation_group=\"country\",\n",
    "                 size=\"percent\", \n",
    "                 color=\"sex\", \n",
    "                 hover_name=\"name\",\n",
    "                 log_x=True, \n",
    "                 size_max=50, \n",
    "                 range_x=[-0.005, 0.005], \n",
    "                 range_y=[25, 90])\n",
    "\n",
    "# Show the figure\n",
    "fig.show()"
   ]
  }
 ],
 "metadata": {
  "kernelspec": {
   "display_name": "Python 3 (ipykernel)",
   "language": "python",
   "name": "python3"
  },
  "language_info": {
   "codemirror_mode": {
    "name": "ipython",
    "version": 3
   },
   "file_extension": ".py",
   "mimetype": "text/x-python",
   "name": "python",
   "nbconvert_exporter": "python",
   "pygments_lexer": "ipython3",
   "version": "3.11.6"
  }
 },
 "nbformat": 4,
 "nbformat_minor": 5
}
